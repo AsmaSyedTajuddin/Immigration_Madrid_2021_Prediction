{
 "cells": [
  {
   "cell_type": "code",
   "execution_count": 1,
   "id": "0755cbcb",
   "metadata": {
    "_cell_guid": "b1076dfc-b9ad-4769-8c92-a6c4dae69d19",
    "_uuid": "8f2839f25d086af736a60e9eeb907d3b93b6e0e5",
    "execution": {
     "iopub.execute_input": "2022-05-26T11:03:45.352006Z",
     "iopub.status.busy": "2022-05-26T11:03:45.351534Z",
     "iopub.status.idle": "2022-05-26T11:03:46.871094Z",
     "shell.execute_reply": "2022-05-26T11:03:46.870044Z"
    },
    "papermill": {
     "duration": 1.53444,
     "end_time": "2022-05-26T11:03:46.874094",
     "exception": false,
     "start_time": "2022-05-26T11:03:45.339654",
     "status": "completed"
    },
    "tags": []
   },
   "outputs": [],
   "source": [
    "import pandas as pd\n",
    "from sklearn.preprocessing import MinMaxScaler\n",
    "from sklearn.model_selection import train_test_split\n",
    "from sklearn.metrics import classification_report, confusion_matrix\n",
    "from sklearn.ensemble import GradientBoostingClassifier\n",
    "import category_encoders as ce\n",
    "from sklearn.linear_model import LogisticRegression\n",
    "from sklearn.preprocessing import StandardScaler"
   ]
  },
  {
   "cell_type": "markdown",
   "id": "07ad0d6c",
   "metadata": {
    "papermill": {
     "duration": 0.00621,
     "end_time": "2022-05-26T11:03:46.887080",
     "exception": false,
     "start_time": "2022-05-26T11:03:46.880870",
     "status": "completed"
    },
    "tags": []
   },
   "source": [
    "Read the csv with pandas"
   ]
  },
  {
   "cell_type": "code",
   "execution_count": 2,
   "id": "29b471ca",
   "metadata": {
    "execution": {
     "iopub.execute_input": "2022-05-26T11:03:46.902038Z",
     "iopub.status.busy": "2022-05-26T11:03:46.901590Z",
     "iopub.status.idle": "2022-05-26T11:03:46.921495Z",
     "shell.execute_reply": "2022-05-26T11:03:46.920366Z"
    },
    "papermill": {
     "duration": 0.030219,
     "end_time": "2022-05-26T11:03:46.924033",
     "exception": false,
     "start_time": "2022-05-26T11:03:46.893814",
     "status": "completed"
    },
    "tags": []
   },
   "outputs": [],
   "source": [
    "df = pd.read_csv('../input/immigration-madrid-2021/Immigration_Madrid_2021.csv')"
   ]
  },
  {
   "cell_type": "code",
   "execution_count": 3,
   "id": "dbe309f7",
   "metadata": {
    "execution": {
     "iopub.execute_input": "2022-05-26T11:03:46.939115Z",
     "iopub.status.busy": "2022-05-26T11:03:46.938422Z",
     "iopub.status.idle": "2022-05-26T11:03:46.962720Z",
     "shell.execute_reply": "2022-05-26T11:03:46.962065Z"
    },
    "papermill": {
     "duration": 0.034302,
     "end_time": "2022-05-26T11:03:46.965129",
     "exception": false,
     "start_time": "2022-05-26T11:03:46.930827",
     "status": "completed"
    },
    "tags": []
   },
   "outputs": [
    {
     "data": {
      "text/html": [
       "<div>\n",
       "<style scoped>\n",
       "    .dataframe tbody tr th:only-of-type {\n",
       "        vertical-align: middle;\n",
       "    }\n",
       "\n",
       "    .dataframe tbody tr th {\n",
       "        vertical-align: top;\n",
       "    }\n",
       "\n",
       "    .dataframe thead th {\n",
       "        text-align: right;\n",
       "    }\n",
       "</style>\n",
       "<table border=\"1\" class=\"dataframe\">\n",
       "  <thead>\n",
       "    <tr style=\"text-align: right;\">\n",
       "      <th></th>\n",
       "      <th>Unnamed: 0</th>\n",
       "      <th>Gender</th>\n",
       "      <th>Age</th>\n",
       "      <th>Studies</th>\n",
       "      <th>Nationality</th>\n",
       "      <th>Administrative_situation</th>\n",
       "      <th>Working</th>\n",
       "    </tr>\n",
       "  </thead>\n",
       "  <tbody>\n",
       "    <tr>\n",
       "      <th>0</th>\n",
       "      <td>0</td>\n",
       "      <td>Women</td>\n",
       "      <td>51-65</td>\n",
       "      <td>College</td>\n",
       "      <td>España</td>\n",
       "      <td>Community</td>\n",
       "      <td>No</td>\n",
       "    </tr>\n",
       "    <tr>\n",
       "      <th>1</th>\n",
       "      <td>1</td>\n",
       "      <td>Women</td>\n",
       "      <td>51-65</td>\n",
       "      <td>College</td>\n",
       "      <td>Venezuela</td>\n",
       "      <td>ART</td>\n",
       "      <td>No</td>\n",
       "    </tr>\n",
       "    <tr>\n",
       "      <th>2</th>\n",
       "      <td>2</td>\n",
       "      <td>Women</td>\n",
       "      <td>18-30</td>\n",
       "      <td>Pre-college</td>\n",
       "      <td>Honduras</td>\n",
       "      <td>Refugee</td>\n",
       "      <td>No</td>\n",
       "    </tr>\n",
       "    <tr>\n",
       "      <th>3</th>\n",
       "      <td>3</td>\n",
       "      <td>Women</td>\n",
       "      <td>18-30</td>\n",
       "      <td>Pre-college</td>\n",
       "      <td>Venezuela</td>\n",
       "      <td>Community</td>\n",
       "      <td>No</td>\n",
       "    </tr>\n",
       "    <tr>\n",
       "      <th>4</th>\n",
       "      <td>4</td>\n",
       "      <td>Women</td>\n",
       "      <td>18-30</td>\n",
       "      <td>Pre-college</td>\n",
       "      <td>República Dominicana</td>\n",
       "      <td>Community_familiar</td>\n",
       "      <td>No</td>\n",
       "    </tr>\n",
       "    <tr>\n",
       "      <th>...</th>\n",
       "      <td>...</td>\n",
       "      <td>...</td>\n",
       "      <td>...</td>\n",
       "      <td>...</td>\n",
       "      <td>...</td>\n",
       "      <td>...</td>\n",
       "      <td>...</td>\n",
       "    </tr>\n",
       "    <tr>\n",
       "      <th>1518</th>\n",
       "      <td>1803</td>\n",
       "      <td>Women</td>\n",
       "      <td>18-30</td>\n",
       "      <td>Elementary_school</td>\n",
       "      <td>España</td>\n",
       "      <td>Community</td>\n",
       "      <td>No</td>\n",
       "    </tr>\n",
       "    <tr>\n",
       "      <th>1519</th>\n",
       "      <td>1804</td>\n",
       "      <td>Women</td>\n",
       "      <td>18-30</td>\n",
       "      <td>Elementary_school</td>\n",
       "      <td>España</td>\n",
       "      <td>Community</td>\n",
       "      <td>No</td>\n",
       "    </tr>\n",
       "    <tr>\n",
       "      <th>1520</th>\n",
       "      <td>1805</td>\n",
       "      <td>Women</td>\n",
       "      <td>18-30</td>\n",
       "      <td>Elementary_school</td>\n",
       "      <td>Marruecos</td>\n",
       "      <td>Community</td>\n",
       "      <td>No</td>\n",
       "    </tr>\n",
       "    <tr>\n",
       "      <th>1521</th>\n",
       "      <td>1806</td>\n",
       "      <td>Women</td>\n",
       "      <td>18-30</td>\n",
       "      <td>Elementary_school</td>\n",
       "      <td>Marruecos</td>\n",
       "      <td>Community</td>\n",
       "      <td>No</td>\n",
       "    </tr>\n",
       "    <tr>\n",
       "      <th>1522</th>\n",
       "      <td>1807</td>\n",
       "      <td>Women</td>\n",
       "      <td>18-30</td>\n",
       "      <td>Elementary_school</td>\n",
       "      <td>Marruecos</td>\n",
       "      <td>Community</td>\n",
       "      <td>No</td>\n",
       "    </tr>\n",
       "  </tbody>\n",
       "</table>\n",
       "<p>1523 rows × 7 columns</p>\n",
       "</div>"
      ],
      "text/plain": [
       "      Unnamed: 0 Gender    Age            Studies           Nationality  \\\n",
       "0              0  Women  51-65            College                España   \n",
       "1              1  Women  51-65            College             Venezuela   \n",
       "2              2  Women  18-30        Pre-college              Honduras   \n",
       "3              3  Women  18-30        Pre-college             Venezuela   \n",
       "4              4  Women  18-30        Pre-college  República Dominicana   \n",
       "...          ...    ...    ...                ...                   ...   \n",
       "1518        1803  Women  18-30  Elementary_school                España   \n",
       "1519        1804  Women  18-30  Elementary_school                España   \n",
       "1520        1805  Women  18-30  Elementary_school             Marruecos   \n",
       "1521        1806  Women  18-30  Elementary_school             Marruecos   \n",
       "1522        1807  Women  18-30  Elementary_school             Marruecos   \n",
       "\n",
       "     Administrative_situation Working  \n",
       "0                   Community      No  \n",
       "1                         ART      No  \n",
       "2                     Refugee      No  \n",
       "3                   Community      No  \n",
       "4          Community_familiar      No  \n",
       "...                       ...     ...  \n",
       "1518                Community      No  \n",
       "1519                Community      No  \n",
       "1520                Community      No  \n",
       "1521                Community      No  \n",
       "1522                Community      No  \n",
       "\n",
       "[1523 rows x 7 columns]"
      ]
     },
     "execution_count": 3,
     "metadata": {},
     "output_type": "execute_result"
    }
   ],
   "source": [
    "df"
   ]
  },
  {
   "cell_type": "markdown",
   "id": "b679bb1f",
   "metadata": {
    "papermill": {
     "duration": 0.006669,
     "end_time": "2022-05-26T11:03:46.978685",
     "exception": false,
     "start_time": "2022-05-26T11:03:46.972016",
     "status": "completed"
    },
    "tags": []
   },
   "source": [
    "Our target is quite unbalanced"
   ]
  },
  {
   "cell_type": "code",
   "execution_count": 4,
   "id": "4449a8f1",
   "metadata": {
    "execution": {
     "iopub.execute_input": "2022-05-26T11:03:46.994052Z",
     "iopub.status.busy": "2022-05-26T11:03:46.993516Z",
     "iopub.status.idle": "2022-05-26T11:03:47.007474Z",
     "shell.execute_reply": "2022-05-26T11:03:47.006159Z"
    },
    "papermill": {
     "duration": 0.024893,
     "end_time": "2022-05-26T11:03:47.010295",
     "exception": false,
     "start_time": "2022-05-26T11:03:46.985402",
     "status": "completed"
    },
    "tags": []
   },
   "outputs": [
    {
     "name": "stdout",
     "output_type": "stream",
     "text": [
      "No     1417\n",
      "Yes     106\n",
      "Name: Working, dtype: int64\n"
     ]
    }
   ],
   "source": [
    "print(df['Working'].value_counts())\n"
   ]
  },
  {
   "cell_type": "code",
   "execution_count": 5,
   "id": "4104a88c",
   "metadata": {
    "execution": {
     "iopub.execute_input": "2022-05-26T11:03:47.026428Z",
     "iopub.status.busy": "2022-05-26T11:03:47.026062Z",
     "iopub.status.idle": "2022-05-26T11:03:47.033728Z",
     "shell.execute_reply": "2022-05-26T11:03:47.032770Z"
    },
    "papermill": {
     "duration": 0.019461,
     "end_time": "2022-05-26T11:03:47.037381",
     "exception": false,
     "start_time": "2022-05-26T11:03:47.017920",
     "status": "completed"
    },
    "tags": []
   },
   "outputs": [
    {
     "name": "stdout",
     "output_type": "stream",
     "text": [
      "Ecuador                            201\n",
      "Venezuela                          183\n",
      "España                             165\n",
      "Perú                               141\n",
      "Colombia                           136\n",
      "Bolivia                            100\n",
      "Honduras                            88\n",
      "República Dominicana                83\n",
      "Marruecos                           55\n",
      "El Salvador                         41\n",
      "Nigeria                             30\n",
      "Nicaragua                           29\n",
      "Paraguay                            25\n",
      "Cuba                                22\n",
      "Argentina                           22\n",
      "Filipinas                           18\n",
      "Guatemala                           18\n",
      "Senegal                             15\n",
      "Portugal                            14\n",
      "Brasil                              12\n",
      "Ucrania                              9\n",
      "Sierra Leona                         9\n",
      "Bangladesh                           8\n",
      "Malí                                 8\n",
      "Argelia                              8\n",
      "China                                7\n",
      "Rumania                              7\n",
      "Costa de Marfil                      6\n",
      "Jamaica                              6\n",
      "Guinea                               6\n",
      "Cabo Verde                           6\n",
      "Guinea Ecuatorial                    6\n",
      "República de Corea                   5\n",
      "Guinea Bissau                        4\n",
      "Costa Rica                           4\n",
      "Sahara                               4\n",
      "Togo                                 4\n",
      "Polonia                              3\n",
      "República Árabe Siria                3\n",
      "Gambia                               3\n",
      "Kenya                                2\n",
      "Chile                                2\n",
      "India                                2\n",
      "República Democrática del Congo      1\n",
      "Somalia                              1\n",
      "Camerún                              1\n",
      "Name: Nationality, dtype: int64\n"
     ]
    }
   ],
   "source": [
    "print(df['Nationality'].value_counts())\n"
   ]
  },
  {
   "cell_type": "markdown",
   "id": "ba9fbd6a",
   "metadata": {
    "papermill": {
     "duration": 0.007355,
     "end_time": "2022-05-26T11:03:47.053535",
     "exception": false,
     "start_time": "2022-05-26T11:03:47.046180",
     "status": "completed"
    },
    "tags": []
   },
   "source": [
    "Separate target and variables, we leave 'nationality' out because we need to one hot encode and there are to many countries."
   ]
  },
  {
   "cell_type": "code",
   "execution_count": 6,
   "id": "d86020b7",
   "metadata": {
    "execution": {
     "iopub.execute_input": "2022-05-26T11:03:47.069855Z",
     "iopub.status.busy": "2022-05-26T11:03:47.069206Z",
     "iopub.status.idle": "2022-05-26T11:03:47.077618Z",
     "shell.execute_reply": "2022-05-26T11:03:47.076856Z"
    },
    "papermill": {
     "duration": 0.019121,
     "end_time": "2022-05-26T11:03:47.079912",
     "exception": false,
     "start_time": "2022-05-26T11:03:47.060791",
     "status": "completed"
    },
    "tags": []
   },
   "outputs": [],
   "source": [
    "X = df[['Gender','Age', 'Studies', 'Administrative_situation']]\n",
    "y = df['Working']"
   ]
  },
  {
   "cell_type": "markdown",
   "id": "c8d375d0",
   "metadata": {
    "papermill": {
     "duration": 0.00684,
     "end_time": "2022-05-26T11:03:47.093803",
     "exception": false,
     "start_time": "2022-05-26T11:03:47.086963",
     "status": "completed"
    },
    "tags": []
   },
   "source": [
    "One hot encoding, we transform the categories to binary columns"
   ]
  },
  {
   "cell_type": "code",
   "execution_count": 7,
   "id": "c6616dd9",
   "metadata": {
    "execution": {
     "iopub.execute_input": "2022-05-26T11:03:47.110009Z",
     "iopub.status.busy": "2022-05-26T11:03:47.109263Z",
     "iopub.status.idle": "2022-05-26T11:03:47.169854Z",
     "shell.execute_reply": "2022-05-26T11:03:47.168856Z"
    },
    "papermill": {
     "duration": 0.071444,
     "end_time": "2022-05-26T11:03:47.172284",
     "exception": false,
     "start_time": "2022-05-26T11:03:47.100840",
     "status": "completed"
    },
    "tags": []
   },
   "outputs": [],
   "source": [
    "ce_OHE = ce.OneHotEncoder(cols=['Gender','Age', 'Studies', 'Administrative_situation'])\n",
    "\n",
    "X = ce_OHE.fit_transform(X)"
   ]
  },
  {
   "cell_type": "code",
   "execution_count": 8,
   "id": "1b78199b",
   "metadata": {
    "execution": {
     "iopub.execute_input": "2022-05-26T11:03:47.188340Z",
     "iopub.status.busy": "2022-05-26T11:03:47.187474Z",
     "iopub.status.idle": "2022-05-26T11:03:47.207640Z",
     "shell.execute_reply": "2022-05-26T11:03:47.206758Z"
    },
    "papermill": {
     "duration": 0.030276,
     "end_time": "2022-05-26T11:03:47.209593",
     "exception": false,
     "start_time": "2022-05-26T11:03:47.179317",
     "status": "completed"
    },
    "tags": []
   },
   "outputs": [
    {
     "data": {
      "text/html": [
       "<div>\n",
       "<style scoped>\n",
       "    .dataframe tbody tr th:only-of-type {\n",
       "        vertical-align: middle;\n",
       "    }\n",
       "\n",
       "    .dataframe tbody tr th {\n",
       "        vertical-align: top;\n",
       "    }\n",
       "\n",
       "    .dataframe thead th {\n",
       "        text-align: right;\n",
       "    }\n",
       "</style>\n",
       "<table border=\"1\" class=\"dataframe\">\n",
       "  <thead>\n",
       "    <tr style=\"text-align: right;\">\n",
       "      <th></th>\n",
       "      <th>Gender_1</th>\n",
       "      <th>Gender_2</th>\n",
       "      <th>Age_1</th>\n",
       "      <th>Age_2</th>\n",
       "      <th>Age_3</th>\n",
       "      <th>Age_4</th>\n",
       "      <th>Age_5</th>\n",
       "      <th>Studies_1</th>\n",
       "      <th>Studies_2</th>\n",
       "      <th>Studies_3</th>\n",
       "      <th>Studies_4</th>\n",
       "      <th>Studies_5</th>\n",
       "      <th>Studies_6</th>\n",
       "      <th>Studies_7</th>\n",
       "      <th>Administrative_situation_1</th>\n",
       "      <th>Administrative_situation_2</th>\n",
       "      <th>Administrative_situation_3</th>\n",
       "      <th>Administrative_situation_4</th>\n",
       "      <th>Administrative_situation_5</th>\n",
       "      <th>Administrative_situation_6</th>\n",
       "    </tr>\n",
       "  </thead>\n",
       "  <tbody>\n",
       "    <tr>\n",
       "      <th>0</th>\n",
       "      <td>1</td>\n",
       "      <td>0</td>\n",
       "      <td>1</td>\n",
       "      <td>0</td>\n",
       "      <td>0</td>\n",
       "      <td>0</td>\n",
       "      <td>0</td>\n",
       "      <td>1</td>\n",
       "      <td>0</td>\n",
       "      <td>0</td>\n",
       "      <td>0</td>\n",
       "      <td>0</td>\n",
       "      <td>0</td>\n",
       "      <td>0</td>\n",
       "      <td>1</td>\n",
       "      <td>0</td>\n",
       "      <td>0</td>\n",
       "      <td>0</td>\n",
       "      <td>0</td>\n",
       "      <td>0</td>\n",
       "    </tr>\n",
       "    <tr>\n",
       "      <th>1</th>\n",
       "      <td>1</td>\n",
       "      <td>0</td>\n",
       "      <td>1</td>\n",
       "      <td>0</td>\n",
       "      <td>0</td>\n",
       "      <td>0</td>\n",
       "      <td>0</td>\n",
       "      <td>1</td>\n",
       "      <td>0</td>\n",
       "      <td>0</td>\n",
       "      <td>0</td>\n",
       "      <td>0</td>\n",
       "      <td>0</td>\n",
       "      <td>0</td>\n",
       "      <td>0</td>\n",
       "      <td>1</td>\n",
       "      <td>0</td>\n",
       "      <td>0</td>\n",
       "      <td>0</td>\n",
       "      <td>0</td>\n",
       "    </tr>\n",
       "    <tr>\n",
       "      <th>2</th>\n",
       "      <td>1</td>\n",
       "      <td>0</td>\n",
       "      <td>0</td>\n",
       "      <td>1</td>\n",
       "      <td>0</td>\n",
       "      <td>0</td>\n",
       "      <td>0</td>\n",
       "      <td>0</td>\n",
       "      <td>1</td>\n",
       "      <td>0</td>\n",
       "      <td>0</td>\n",
       "      <td>0</td>\n",
       "      <td>0</td>\n",
       "      <td>0</td>\n",
       "      <td>0</td>\n",
       "      <td>0</td>\n",
       "      <td>1</td>\n",
       "      <td>0</td>\n",
       "      <td>0</td>\n",
       "      <td>0</td>\n",
       "    </tr>\n",
       "    <tr>\n",
       "      <th>3</th>\n",
       "      <td>1</td>\n",
       "      <td>0</td>\n",
       "      <td>0</td>\n",
       "      <td>1</td>\n",
       "      <td>0</td>\n",
       "      <td>0</td>\n",
       "      <td>0</td>\n",
       "      <td>0</td>\n",
       "      <td>1</td>\n",
       "      <td>0</td>\n",
       "      <td>0</td>\n",
       "      <td>0</td>\n",
       "      <td>0</td>\n",
       "      <td>0</td>\n",
       "      <td>1</td>\n",
       "      <td>0</td>\n",
       "      <td>0</td>\n",
       "      <td>0</td>\n",
       "      <td>0</td>\n",
       "      <td>0</td>\n",
       "    </tr>\n",
       "    <tr>\n",
       "      <th>4</th>\n",
       "      <td>1</td>\n",
       "      <td>0</td>\n",
       "      <td>0</td>\n",
       "      <td>1</td>\n",
       "      <td>0</td>\n",
       "      <td>0</td>\n",
       "      <td>0</td>\n",
       "      <td>0</td>\n",
       "      <td>1</td>\n",
       "      <td>0</td>\n",
       "      <td>0</td>\n",
       "      <td>0</td>\n",
       "      <td>0</td>\n",
       "      <td>0</td>\n",
       "      <td>0</td>\n",
       "      <td>0</td>\n",
       "      <td>0</td>\n",
       "      <td>1</td>\n",
       "      <td>0</td>\n",
       "      <td>0</td>\n",
       "    </tr>\n",
       "    <tr>\n",
       "      <th>...</th>\n",
       "      <td>...</td>\n",
       "      <td>...</td>\n",
       "      <td>...</td>\n",
       "      <td>...</td>\n",
       "      <td>...</td>\n",
       "      <td>...</td>\n",
       "      <td>...</td>\n",
       "      <td>...</td>\n",
       "      <td>...</td>\n",
       "      <td>...</td>\n",
       "      <td>...</td>\n",
       "      <td>...</td>\n",
       "      <td>...</td>\n",
       "      <td>...</td>\n",
       "      <td>...</td>\n",
       "      <td>...</td>\n",
       "      <td>...</td>\n",
       "      <td>...</td>\n",
       "      <td>...</td>\n",
       "      <td>...</td>\n",
       "    </tr>\n",
       "    <tr>\n",
       "      <th>1518</th>\n",
       "      <td>1</td>\n",
       "      <td>0</td>\n",
       "      <td>0</td>\n",
       "      <td>1</td>\n",
       "      <td>0</td>\n",
       "      <td>0</td>\n",
       "      <td>0</td>\n",
       "      <td>0</td>\n",
       "      <td>0</td>\n",
       "      <td>0</td>\n",
       "      <td>0</td>\n",
       "      <td>1</td>\n",
       "      <td>0</td>\n",
       "      <td>0</td>\n",
       "      <td>1</td>\n",
       "      <td>0</td>\n",
       "      <td>0</td>\n",
       "      <td>0</td>\n",
       "      <td>0</td>\n",
       "      <td>0</td>\n",
       "    </tr>\n",
       "    <tr>\n",
       "      <th>1519</th>\n",
       "      <td>1</td>\n",
       "      <td>0</td>\n",
       "      <td>0</td>\n",
       "      <td>1</td>\n",
       "      <td>0</td>\n",
       "      <td>0</td>\n",
       "      <td>0</td>\n",
       "      <td>0</td>\n",
       "      <td>0</td>\n",
       "      <td>0</td>\n",
       "      <td>0</td>\n",
       "      <td>1</td>\n",
       "      <td>0</td>\n",
       "      <td>0</td>\n",
       "      <td>1</td>\n",
       "      <td>0</td>\n",
       "      <td>0</td>\n",
       "      <td>0</td>\n",
       "      <td>0</td>\n",
       "      <td>0</td>\n",
       "    </tr>\n",
       "    <tr>\n",
       "      <th>1520</th>\n",
       "      <td>1</td>\n",
       "      <td>0</td>\n",
       "      <td>0</td>\n",
       "      <td>1</td>\n",
       "      <td>0</td>\n",
       "      <td>0</td>\n",
       "      <td>0</td>\n",
       "      <td>0</td>\n",
       "      <td>0</td>\n",
       "      <td>0</td>\n",
       "      <td>0</td>\n",
       "      <td>1</td>\n",
       "      <td>0</td>\n",
       "      <td>0</td>\n",
       "      <td>1</td>\n",
       "      <td>0</td>\n",
       "      <td>0</td>\n",
       "      <td>0</td>\n",
       "      <td>0</td>\n",
       "      <td>0</td>\n",
       "    </tr>\n",
       "    <tr>\n",
       "      <th>1521</th>\n",
       "      <td>1</td>\n",
       "      <td>0</td>\n",
       "      <td>0</td>\n",
       "      <td>1</td>\n",
       "      <td>0</td>\n",
       "      <td>0</td>\n",
       "      <td>0</td>\n",
       "      <td>0</td>\n",
       "      <td>0</td>\n",
       "      <td>0</td>\n",
       "      <td>0</td>\n",
       "      <td>1</td>\n",
       "      <td>0</td>\n",
       "      <td>0</td>\n",
       "      <td>1</td>\n",
       "      <td>0</td>\n",
       "      <td>0</td>\n",
       "      <td>0</td>\n",
       "      <td>0</td>\n",
       "      <td>0</td>\n",
       "    </tr>\n",
       "    <tr>\n",
       "      <th>1522</th>\n",
       "      <td>1</td>\n",
       "      <td>0</td>\n",
       "      <td>0</td>\n",
       "      <td>1</td>\n",
       "      <td>0</td>\n",
       "      <td>0</td>\n",
       "      <td>0</td>\n",
       "      <td>0</td>\n",
       "      <td>0</td>\n",
       "      <td>0</td>\n",
       "      <td>0</td>\n",
       "      <td>1</td>\n",
       "      <td>0</td>\n",
       "      <td>0</td>\n",
       "      <td>1</td>\n",
       "      <td>0</td>\n",
       "      <td>0</td>\n",
       "      <td>0</td>\n",
       "      <td>0</td>\n",
       "      <td>0</td>\n",
       "    </tr>\n",
       "  </tbody>\n",
       "</table>\n",
       "<p>1523 rows × 20 columns</p>\n",
       "</div>"
      ],
      "text/plain": [
       "      Gender_1  Gender_2  Age_1  Age_2  Age_3  Age_4  Age_5  Studies_1  \\\n",
       "0            1         0      1      0      0      0      0          1   \n",
       "1            1         0      1      0      0      0      0          1   \n",
       "2            1         0      0      1      0      0      0          0   \n",
       "3            1         0      0      1      0      0      0          0   \n",
       "4            1         0      0      1      0      0      0          0   \n",
       "...        ...       ...    ...    ...    ...    ...    ...        ...   \n",
       "1518         1         0      0      1      0      0      0          0   \n",
       "1519         1         0      0      1      0      0      0          0   \n",
       "1520         1         0      0      1      0      0      0          0   \n",
       "1521         1         0      0      1      0      0      0          0   \n",
       "1522         1         0      0      1      0      0      0          0   \n",
       "\n",
       "      Studies_2  Studies_3  Studies_4  Studies_5  Studies_6  Studies_7  \\\n",
       "0             0          0          0          0          0          0   \n",
       "1             0          0          0          0          0          0   \n",
       "2             1          0          0          0          0          0   \n",
       "3             1          0          0          0          0          0   \n",
       "4             1          0          0          0          0          0   \n",
       "...         ...        ...        ...        ...        ...        ...   \n",
       "1518          0          0          0          1          0          0   \n",
       "1519          0          0          0          1          0          0   \n",
       "1520          0          0          0          1          0          0   \n",
       "1521          0          0          0          1          0          0   \n",
       "1522          0          0          0          1          0          0   \n",
       "\n",
       "      Administrative_situation_1  Administrative_situation_2  \\\n",
       "0                              1                           0   \n",
       "1                              0                           1   \n",
       "2                              0                           0   \n",
       "3                              1                           0   \n",
       "4                              0                           0   \n",
       "...                          ...                         ...   \n",
       "1518                           1                           0   \n",
       "1519                           1                           0   \n",
       "1520                           1                           0   \n",
       "1521                           1                           0   \n",
       "1522                           1                           0   \n",
       "\n",
       "      Administrative_situation_3  Administrative_situation_4  \\\n",
       "0                              0                           0   \n",
       "1                              0                           0   \n",
       "2                              1                           0   \n",
       "3                              0                           0   \n",
       "4                              0                           1   \n",
       "...                          ...                         ...   \n",
       "1518                           0                           0   \n",
       "1519                           0                           0   \n",
       "1520                           0                           0   \n",
       "1521                           0                           0   \n",
       "1522                           0                           0   \n",
       "\n",
       "      Administrative_situation_5  Administrative_situation_6  \n",
       "0                              0                           0  \n",
       "1                              0                           0  \n",
       "2                              0                           0  \n",
       "3                              0                           0  \n",
       "4                              0                           0  \n",
       "...                          ...                         ...  \n",
       "1518                           0                           0  \n",
       "1519                           0                           0  \n",
       "1520                           0                           0  \n",
       "1521                           0                           0  \n",
       "1522                           0                           0  \n",
       "\n",
       "[1523 rows x 20 columns]"
      ]
     },
     "execution_count": 8,
     "metadata": {},
     "output_type": "execute_result"
    }
   ],
   "source": [
    "X"
   ]
  },
  {
   "cell_type": "markdown",
   "id": "47d81396",
   "metadata": {
    "papermill": {
     "duration": 0.007237,
     "end_time": "2022-05-26T11:03:47.224518",
     "exception": false,
     "start_time": "2022-05-26T11:03:47.217281",
     "status": "completed"
    },
    "tags": []
   },
   "source": [
    "Train/Test split"
   ]
  },
  {
   "cell_type": "code",
   "execution_count": 9,
   "id": "f1fcc6ed",
   "metadata": {
    "execution": {
     "iopub.execute_input": "2022-05-26T11:03:47.241201Z",
     "iopub.status.busy": "2022-05-26T11:03:47.240782Z",
     "iopub.status.idle": "2022-05-26T11:03:47.247730Z",
     "shell.execute_reply": "2022-05-26T11:03:47.247039Z"
    },
    "papermill": {
     "duration": 0.017513,
     "end_time": "2022-05-26T11:03:47.249599",
     "exception": false,
     "start_time": "2022-05-26T11:03:47.232086",
     "status": "completed"
    },
    "tags": []
   },
   "outputs": [],
   "source": [
    "state = 1\n",
    "test_size = 0.1\n",
    "  \n",
    "X_train, X_val, y_train, y_val = train_test_split(X, y,  \n",
    "    test_size=test_size, random_state=state)"
   ]
  },
  {
   "cell_type": "markdown",
   "id": "232532d6",
   "metadata": {
    "papermill": {
     "duration": 0.00722,
     "end_time": "2022-05-26T11:03:47.264455",
     "exception": false,
     "start_time": "2022-05-26T11:03:47.257235",
     "status": "completed"
    },
    "tags": []
   },
   "source": [
    "Now we try some learnig rates to search the best one in a GradientBoostingClassifier"
   ]
  },
  {
   "cell_type": "code",
   "execution_count": 10,
   "id": "4dd20a25",
   "metadata": {
    "execution": {
     "iopub.execute_input": "2022-05-26T11:03:47.282723Z",
     "iopub.status.busy": "2022-05-26T11:03:47.282270Z",
     "iopub.status.idle": "2022-05-26T11:03:47.478028Z",
     "shell.execute_reply": "2022-05-26T11:03:47.477050Z"
    },
    "papermill": {
     "duration": 0.207548,
     "end_time": "2022-05-26T11:03:47.480695",
     "exception": false,
     "start_time": "2022-05-26T11:03:47.273147",
     "status": "completed"
    },
    "tags": []
   },
   "outputs": [
    {
     "name": "stdout",
     "output_type": "stream",
     "text": [
      "Learning rate:  0.05\n",
      "Accuracy score (training): 0.929\n",
      "Accuracy score (validation): 0.941\n",
      "Learning rate:  0.075\n",
      "Accuracy score (training): 0.929\n",
      "Accuracy score (validation): 0.941\n",
      "Learning rate:  0.1\n",
      "Accuracy score (training): 0.929\n",
      "Accuracy score (validation): 0.941\n",
      "Learning rate:  0.25\n",
      "Accuracy score (training): 0.929\n",
      "Accuracy score (validation): 0.941\n",
      "Learning rate:  0.5\n",
      "Accuracy score (training): 0.929\n",
      "Accuracy score (validation): 0.941\n",
      "Learning rate:  0.75\n",
      "Accuracy score (training): 0.929\n",
      "Accuracy score (validation): 0.941\n",
      "Learning rate:  1\n",
      "Accuracy score (training): 0.929\n",
      "Accuracy score (validation): 0.941\n"
     ]
    }
   ],
   "source": [
    "lr_list = [0.05, 0.075, 0.1, 0.25, 0.5, 0.75, 1]\n",
    "\n",
    "for learning_rate in lr_list:\n",
    "    gb_clf = GradientBoostingClassifier(n_estimators=20, learning_rate=learning_rate, max_features=2, max_depth=2, random_state=0)\n",
    "    gb_clf.fit(X_train, y_train)\n",
    "\n",
    "    print(\"Learning rate: \", learning_rate)\n",
    "    print(\"Accuracy score (training): {0:.3f}\".format(gb_clf.score(X_train, y_train)))\n",
    "    print(\"Accuracy score (validation): {0:.3f}\".format(gb_clf.score(X_val, y_val)))"
   ]
  },
  {
   "cell_type": "markdown",
   "id": "1335d751",
   "metadata": {
    "papermill": {
     "duration": 0.007329,
     "end_time": "2022-05-26T11:03:47.495861",
     "exception": false,
     "start_time": "2022-05-26T11:03:47.488532",
     "status": "completed"
    },
    "tags": []
   },
   "source": [
    "Plot confusion matrix and visualize our prediction, we see the balance problem."
   ]
  },
  {
   "cell_type": "code",
   "execution_count": 11,
   "id": "0cf5e619",
   "metadata": {
    "execution": {
     "iopub.execute_input": "2022-05-26T11:03:47.513358Z",
     "iopub.status.busy": "2022-05-26T11:03:47.512454Z",
     "iopub.status.idle": "2022-05-26T11:03:47.556096Z",
     "shell.execute_reply": "2022-05-26T11:03:47.554986Z"
    },
    "papermill": {
     "duration": 0.055985,
     "end_time": "2022-05-26T11:03:47.559537",
     "exception": false,
     "start_time": "2022-05-26T11:03:47.503552",
     "status": "completed"
    },
    "tags": []
   },
   "outputs": [
    {
     "name": "stdout",
     "output_type": "stream",
     "text": [
      "Confusion Matrix:\n",
      "[[144   0]\n",
      " [  9   0]]\n",
      "Classification Report\n",
      "              precision    recall  f1-score   support\n",
      "\n",
      "          No       0.94      1.00      0.97       144\n",
      "         Yes       0.00      0.00      0.00         9\n",
      "\n",
      "    accuracy                           0.94       153\n",
      "   macro avg       0.47      0.50      0.48       153\n",
      "weighted avg       0.89      0.94      0.91       153\n",
      "\n"
     ]
    },
    {
     "name": "stderr",
     "output_type": "stream",
     "text": [
      "/opt/conda/lib/python3.7/site-packages/sklearn/metrics/_classification.py:1318: UndefinedMetricWarning: Precision and F-score are ill-defined and being set to 0.0 in labels with no predicted samples. Use `zero_division` parameter to control this behavior.\n",
      "  _warn_prf(average, modifier, msg_start, len(result))\n",
      "/opt/conda/lib/python3.7/site-packages/sklearn/metrics/_classification.py:1318: UndefinedMetricWarning: Precision and F-score are ill-defined and being set to 0.0 in labels with no predicted samples. Use `zero_division` parameter to control this behavior.\n",
      "  _warn_prf(average, modifier, msg_start, len(result))\n",
      "/opt/conda/lib/python3.7/site-packages/sklearn/metrics/_classification.py:1318: UndefinedMetricWarning: Precision and F-score are ill-defined and being set to 0.0 in labels with no predicted samples. Use `zero_division` parameter to control this behavior.\n",
      "  _warn_prf(average, modifier, msg_start, len(result))\n"
     ]
    }
   ],
   "source": [
    "gb_clf2 = GradientBoostingClassifier(n_estimators=20, learning_rate=1, max_features=2, max_depth=2, random_state=0)\n",
    "gb_clf2.fit(X_train, y_train)\n",
    "predictions = gb_clf2.predict(X_val)\n",
    "\n",
    "print(\"Confusion Matrix:\")\n",
    "print(confusion_matrix(y_val, predictions))\n",
    "\n",
    "print(\"Classification Report\")\n",
    "print(classification_report(y_val, predictions))"
   ]
  },
  {
   "cell_type": "markdown",
   "id": "5c36585a",
   "metadata": {
    "papermill": {
     "duration": 0.008007,
     "end_time": "2022-05-26T11:03:47.575470",
     "exception": false,
     "start_time": "2022-05-26T11:03:47.567463",
     "status": "completed"
    },
    "tags": []
   },
   "source": [
    "We try a xgboost but we expect the results are going to be the same.\n",
    "For this classifier we need to change Yes/No for 1/0"
   ]
  },
  {
   "cell_type": "code",
   "execution_count": 12,
   "id": "721e5f3b",
   "metadata": {
    "execution": {
     "iopub.execute_input": "2022-05-26T11:03:47.593208Z",
     "iopub.status.busy": "2022-05-26T11:03:47.592666Z",
     "iopub.status.idle": "2022-05-26T11:03:47.600859Z",
     "shell.execute_reply": "2022-05-26T11:03:47.599975Z"
    },
    "papermill": {
     "duration": 0.019863,
     "end_time": "2022-05-26T11:03:47.603277",
     "exception": false,
     "start_time": "2022-05-26T11:03:47.583414",
     "status": "completed"
    },
    "tags": []
   },
   "outputs": [],
   "source": [
    "y_train = y_train.replace(['Yes','No'],[1,0])\n",
    "y_val = y_val.replace(['Yes','No'],[1,0])\n",
    "y_train = y_train.astype(\"int\")\n",
    "y_val = y_val.astype(\"int\")"
   ]
  },
  {
   "cell_type": "code",
   "execution_count": 13,
   "id": "ac4e2cc3",
   "metadata": {
    "execution": {
     "iopub.execute_input": "2022-05-26T11:03:47.622189Z",
     "iopub.status.busy": "2022-05-26T11:03:47.621503Z",
     "iopub.status.idle": "2022-05-26T11:03:48.136684Z",
     "shell.execute_reply": "2022-05-26T11:03:48.135745Z"
    },
    "papermill": {
     "duration": 0.527833,
     "end_time": "2022-05-26T11:03:48.139375",
     "exception": false,
     "start_time": "2022-05-26T11:03:47.611542",
     "status": "completed"
    },
    "tags": []
   },
   "outputs": [
    {
     "data": {
      "text/plain": [
       "XGBClassifier(base_score=0.5, booster='gbtree', callbacks=None,\n",
       "              colsample_bylevel=1, colsample_bynode=1, colsample_bytree=1,\n",
       "              early_stopping_rounds=None, enable_categorical=False,\n",
       "              eval_metric=None, gamma=0, gpu_id=-1, grow_policy='depthwise',\n",
       "              importance_type=None, interaction_constraints='',\n",
       "              learning_rate=0.300000012, max_bin=256, max_cat_to_onehot=4,\n",
       "              max_delta_step=0, max_depth=6, max_leaves=0, min_child_weight=1,\n",
       "              missing=nan, monotone_constraints='()', n_estimators=100,\n",
       "              n_jobs=0, num_parallel_tree=1, predictor='auto', random_state=0,\n",
       "              reg_alpha=0, reg_lambda=1, ...)"
      ]
     },
     "execution_count": 13,
     "metadata": {},
     "output_type": "execute_result"
    }
   ],
   "source": [
    "from xgboost import XGBClassifier\n",
    "xgb_clf = XGBClassifier()\n",
    "xgb_clf.fit(X_train, y_train)"
   ]
  },
  {
   "cell_type": "code",
   "execution_count": 14,
   "id": "751289df",
   "metadata": {
    "execution": {
     "iopub.execute_input": "2022-05-26T11:03:48.158059Z",
     "iopub.status.busy": "2022-05-26T11:03:48.157038Z",
     "iopub.status.idle": "2022-05-26T11:03:48.170856Z",
     "shell.execute_reply": "2022-05-26T11:03:48.169503Z"
    },
    "papermill": {
     "duration": 0.02707,
     "end_time": "2022-05-26T11:03:48.174876",
     "exception": false,
     "start_time": "2022-05-26T11:03:48.147806",
     "status": "completed"
    },
    "tags": []
   },
   "outputs": [
    {
     "name": "stdout",
     "output_type": "stream",
     "text": [
      "0.9411764705882353\n"
     ]
    }
   ],
   "source": [
    "score = xgb_clf.score(X_val, y_val)\n",
    "print(score)"
   ]
  },
  {
   "cell_type": "markdown",
   "id": "ed5086f8",
   "metadata": {
    "papermill": {
     "duration": 0.00788,
     "end_time": "2022-05-26T11:03:48.193047",
     "exception": false,
     "start_time": "2022-05-26T11:03:48.185167",
     "status": "completed"
    },
    "tags": []
   },
   "source": [
    "We get the same accuracy as the GradientBoostingClassifier.\n",
    "\n",
    "Print the prediction to see our problem."
   ]
  },
  {
   "cell_type": "code",
   "execution_count": 15,
   "id": "488ea37a",
   "metadata": {
    "execution": {
     "iopub.execute_input": "2022-05-26T11:03:48.211224Z",
     "iopub.status.busy": "2022-05-26T11:03:48.210813Z",
     "iopub.status.idle": "2022-05-26T11:03:48.223454Z",
     "shell.execute_reply": "2022-05-26T11:03:48.221834Z"
    },
    "papermill": {
     "duration": 0.026219,
     "end_time": "2022-05-26T11:03:48.227526",
     "exception": false,
     "start_time": "2022-05-26T11:03:48.201307",
     "status": "completed"
    },
    "tags": []
   },
   "outputs": [
    {
     "name": "stdout",
     "output_type": "stream",
     "text": [
      "[0 0 0 0 0 0 0 0 0 0 0 0 0 0 0 0 0 0 0 0 0 0 0 0 0 0 0 0 0 0 0 0 0 0 0 0 0\n",
      " 0 0 0 0 0 0 0 0 0 0 0 0 0 0 0 0 0 0 0 0 0 0 0 0 0 0 0 0 0 0 0 0 0 0 0 0 0\n",
      " 0 0 0 0 0 0 0 0 0 0 0 0 0 0 0 0 0 0 0 0 0 0 0 0 0 0 0 0 0 0 0 0 0 0 0 0 0\n",
      " 0 0 0 0 0 0 0 0 0 0 0 0 0 0 0 0 0 0 0 0 0 0 0 0 0 0 0 0 0 0 0 0 0 0 0 0 0\n",
      " 0 0 0 0 0]\n"
     ]
    }
   ],
   "source": [
    "y_pred = xgb_clf.predict(X_val)\n",
    "print(y_pred)"
   ]
  },
  {
   "cell_type": "markdown",
   "id": "54cb6c41",
   "metadata": {
    "papermill": {
     "duration": 0.007799,
     "end_time": "2022-05-26T11:03:48.245085",
     "exception": false,
     "start_time": "2022-05-26T11:03:48.237286",
     "status": "completed"
    },
    "tags": []
   },
   "source": [
    "One more time we see the balance problem, its not the model its our data.\n",
    "\n",
    "In future notebooks we will use libraries to change our data and try to solve this problem better."
   ]
  }
 ],
 "metadata": {
  "kernelspec": {
   "display_name": "Python 3",
   "language": "python",
   "name": "python3"
  },
  "language_info": {
   "codemirror_mode": {
    "name": "ipython",
    "version": 3
   },
   "file_extension": ".py",
   "mimetype": "text/x-python",
   "name": "python",
   "nbconvert_exporter": "python",
   "pygments_lexer": "ipython3",
   "version": "3.7.12"
  },
  "papermill": {
   "default_parameters": {},
   "duration": 13.606686,
   "end_time": "2022-05-26T11:03:48.974924",
   "environment_variables": {},
   "exception": null,
   "input_path": "__notebook__.ipynb",
   "output_path": "__notebook__.ipynb",
   "parameters": {},
   "start_time": "2022-05-26T11:03:35.368238",
   "version": "2.3.4"
  }
 },
 "nbformat": 4,
 "nbformat_minor": 5
}
