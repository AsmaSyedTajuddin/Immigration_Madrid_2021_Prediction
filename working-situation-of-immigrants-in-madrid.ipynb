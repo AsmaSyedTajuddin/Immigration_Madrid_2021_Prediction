{
 "cells": [
  {
   "cell_type": "markdown",
   "id": "2b068e24",
   "metadata": {
    "papermill": {
     "duration": 0.009939,
     "end_time": "2022-05-26T16:54:18.952833",
     "exception": false,
     "start_time": "2022-05-26T16:54:18.942894",
     "status": "completed"
    },
    "tags": []
   },
   "source": [
    "# Working Situation of Immigrants in Madrid "
   ]
  },
  {
   "cell_type": "code",
   "execution_count": 1,
   "id": "cfedf85c",
   "metadata": {
    "execution": {
     "iopub.execute_input": "2022-05-26T16:54:18.973082Z",
     "iopub.status.busy": "2022-05-26T16:54:18.972402Z",
     "iopub.status.idle": "2022-05-26T16:54:29.767798Z",
     "shell.execute_reply": "2022-05-26T16:54:29.766854Z"
    },
    "papermill": {
     "duration": 10.80815,
     "end_time": "2022-05-26T16:54:29.770318",
     "exception": false,
     "start_time": "2022-05-26T16:54:18.962168",
     "status": "completed"
    },
    "tags": []
   },
   "outputs": [
    {
     "data": {
      "text/html": [
       "<style type='text/css'>\n",
       ".datatable table.frame { margin-bottom: 0; }\n",
       ".datatable table.frame thead { border-bottom: none; }\n",
       ".datatable table.frame tr.coltypes td {  color: #FFFFFF;  line-height: 6px;  padding: 0 0.5em;}\n",
       ".datatable .bool    { background: #DDDD99; }\n",
       ".datatable .object  { background: #565656; }\n",
       ".datatable .int     { background: #5D9E5D; }\n",
       ".datatable .float   { background: #4040CC; }\n",
       ".datatable .str     { background: #CC4040; }\n",
       ".datatable .time    { background: #40CC40; }\n",
       ".datatable .row_index {  background: var(--jp-border-color3);  border-right: 1px solid var(--jp-border-color0);  color: var(--jp-ui-font-color3);  font-size: 9px;}\n",
       ".datatable .frame tbody td { text-align: left; }\n",
       ".datatable .frame tr.coltypes .row_index {  background: var(--jp-border-color0);}\n",
       ".datatable th:nth-child(2) { padding-left: 12px; }\n",
       ".datatable .hellipsis {  color: var(--jp-cell-editor-border-color);}\n",
       ".datatable .vellipsis {  background: var(--jp-layout-color0);  color: var(--jp-cell-editor-border-color);}\n",
       ".datatable .na {  color: var(--jp-cell-editor-border-color);  font-size: 80%;}\n",
       ".datatable .sp {  opacity: 0.25;}\n",
       ".datatable .footer { font-size: 9px; }\n",
       ".datatable .frame_dimensions {  background: var(--jp-border-color3);  border-top: 1px solid var(--jp-border-color0);  color: var(--jp-ui-font-color3);  display: inline-block;  opacity: 0.6;  padding: 1px 10px 1px 5px;}\n",
       "</style>\n"
      ],
      "text/plain": [
       "<IPython.core.display.HTML object>"
      ]
     },
     "metadata": {},
     "output_type": "display_data"
    }
   ],
   "source": [
    "import os\n",
    "import numpy as np\n",
    "import pandas as pd\n",
    "import random\n",
    "import matplotlib.pyplot as plt\n",
    "import seaborn as sns\n",
    "from contextlib import contextmanager\n",
    "from time import time\n",
    "from tqdm import tqdm\n",
    "import lightgbm as lgbm\n",
    "import category_encoders as ce\n",
    "from tensorflow.keras.utils import to_categorical\n",
    "from sklearn.metrics import classification_report, log_loss, accuracy_score\n",
    "from sklearn.metrics import mean_squared_error\n",
    "from sklearn.model_selection import KFold\n",
    "import plotly.express as px\n",
    "import plotly.graph_objects as go\n",
    "from plotly.subplots import make_subplots"
   ]
  },
  {
   "cell_type": "markdown",
   "id": "9c8c2b93",
   "metadata": {
    "papermill": {
     "duration": 0.009233,
     "end_time": "2022-05-26T16:54:29.788992",
     "exception": false,
     "start_time": "2022-05-26T16:54:29.779759",
     "status": "completed"
    },
    "tags": []
   },
   "source": [
    "# Data preparation"
   ]
  },
  {
   "cell_type": "code",
   "execution_count": 2,
   "id": "eeac9ca1",
   "metadata": {
    "execution": {
     "iopub.execute_input": "2022-05-26T16:54:29.811028Z",
     "iopub.status.busy": "2022-05-26T16:54:29.809704Z",
     "iopub.status.idle": "2022-05-26T16:54:29.849829Z",
     "shell.execute_reply": "2022-05-26T16:54:29.848806Z"
    },
    "papermill": {
     "duration": 0.054205,
     "end_time": "2022-05-26T16:54:29.852788",
     "exception": false,
     "start_time": "2022-05-26T16:54:29.798583",
     "status": "completed"
    },
    "tags": []
   },
   "outputs": [
    {
     "data": {
      "text/html": [
       "<div>\n",
       "<style scoped>\n",
       "    .dataframe tbody tr th:only-of-type {\n",
       "        vertical-align: middle;\n",
       "    }\n",
       "\n",
       "    .dataframe tbody tr th {\n",
       "        vertical-align: top;\n",
       "    }\n",
       "\n",
       "    .dataframe thead th {\n",
       "        text-align: right;\n",
       "    }\n",
       "</style>\n",
       "<table border=\"1\" class=\"dataframe\">\n",
       "  <thead>\n",
       "    <tr style=\"text-align: right;\">\n",
       "      <th></th>\n",
       "      <th>Unnamed: 0</th>\n",
       "      <th>Gender</th>\n",
       "      <th>Age</th>\n",
       "      <th>Studies</th>\n",
       "      <th>Nationality</th>\n",
       "      <th>Administrative_situation</th>\n",
       "      <th>Working</th>\n",
       "    </tr>\n",
       "  </thead>\n",
       "  <tbody>\n",
       "    <tr>\n",
       "      <th>0</th>\n",
       "      <td>0</td>\n",
       "      <td>Women</td>\n",
       "      <td>51-65</td>\n",
       "      <td>College</td>\n",
       "      <td>España</td>\n",
       "      <td>Community</td>\n",
       "      <td>No</td>\n",
       "    </tr>\n",
       "    <tr>\n",
       "      <th>1</th>\n",
       "      <td>1</td>\n",
       "      <td>Women</td>\n",
       "      <td>51-65</td>\n",
       "      <td>College</td>\n",
       "      <td>Venezuela</td>\n",
       "      <td>ART</td>\n",
       "      <td>No</td>\n",
       "    </tr>\n",
       "    <tr>\n",
       "      <th>2</th>\n",
       "      <td>2</td>\n",
       "      <td>Women</td>\n",
       "      <td>18-30</td>\n",
       "      <td>Pre-college</td>\n",
       "      <td>Honduras</td>\n",
       "      <td>Refugee</td>\n",
       "      <td>No</td>\n",
       "    </tr>\n",
       "    <tr>\n",
       "      <th>3</th>\n",
       "      <td>3</td>\n",
       "      <td>Women</td>\n",
       "      <td>18-30</td>\n",
       "      <td>Pre-college</td>\n",
       "      <td>Venezuela</td>\n",
       "      <td>Community</td>\n",
       "      <td>No</td>\n",
       "    </tr>\n",
       "    <tr>\n",
       "      <th>4</th>\n",
       "      <td>4</td>\n",
       "      <td>Women</td>\n",
       "      <td>18-30</td>\n",
       "      <td>Pre-college</td>\n",
       "      <td>República Dominicana</td>\n",
       "      <td>Community_familiar</td>\n",
       "      <td>No</td>\n",
       "    </tr>\n",
       "    <tr>\n",
       "      <th>...</th>\n",
       "      <td>...</td>\n",
       "      <td>...</td>\n",
       "      <td>...</td>\n",
       "      <td>...</td>\n",
       "      <td>...</td>\n",
       "      <td>...</td>\n",
       "      <td>...</td>\n",
       "    </tr>\n",
       "    <tr>\n",
       "      <th>1518</th>\n",
       "      <td>1803</td>\n",
       "      <td>Women</td>\n",
       "      <td>18-30</td>\n",
       "      <td>Elementary_school</td>\n",
       "      <td>España</td>\n",
       "      <td>Community</td>\n",
       "      <td>No</td>\n",
       "    </tr>\n",
       "    <tr>\n",
       "      <th>1519</th>\n",
       "      <td>1804</td>\n",
       "      <td>Women</td>\n",
       "      <td>18-30</td>\n",
       "      <td>Elementary_school</td>\n",
       "      <td>España</td>\n",
       "      <td>Community</td>\n",
       "      <td>No</td>\n",
       "    </tr>\n",
       "    <tr>\n",
       "      <th>1520</th>\n",
       "      <td>1805</td>\n",
       "      <td>Women</td>\n",
       "      <td>18-30</td>\n",
       "      <td>Elementary_school</td>\n",
       "      <td>Marruecos</td>\n",
       "      <td>Community</td>\n",
       "      <td>No</td>\n",
       "    </tr>\n",
       "    <tr>\n",
       "      <th>1521</th>\n",
       "      <td>1806</td>\n",
       "      <td>Women</td>\n",
       "      <td>18-30</td>\n",
       "      <td>Elementary_school</td>\n",
       "      <td>Marruecos</td>\n",
       "      <td>Community</td>\n",
       "      <td>No</td>\n",
       "    </tr>\n",
       "    <tr>\n",
       "      <th>1522</th>\n",
       "      <td>1807</td>\n",
       "      <td>Women</td>\n",
       "      <td>18-30</td>\n",
       "      <td>Elementary_school</td>\n",
       "      <td>Marruecos</td>\n",
       "      <td>Community</td>\n",
       "      <td>No</td>\n",
       "    </tr>\n",
       "  </tbody>\n",
       "</table>\n",
       "<p>1523 rows × 7 columns</p>\n",
       "</div>"
      ],
      "text/plain": [
       "      Unnamed: 0 Gender    Age            Studies           Nationality  \\\n",
       "0              0  Women  51-65            College                España   \n",
       "1              1  Women  51-65            College             Venezuela   \n",
       "2              2  Women  18-30        Pre-college              Honduras   \n",
       "3              3  Women  18-30        Pre-college             Venezuela   \n",
       "4              4  Women  18-30        Pre-college  República Dominicana   \n",
       "...          ...    ...    ...                ...                   ...   \n",
       "1518        1803  Women  18-30  Elementary_school                España   \n",
       "1519        1804  Women  18-30  Elementary_school                España   \n",
       "1520        1805  Women  18-30  Elementary_school             Marruecos   \n",
       "1521        1806  Women  18-30  Elementary_school             Marruecos   \n",
       "1522        1807  Women  18-30  Elementary_school             Marruecos   \n",
       "\n",
       "     Administrative_situation Working  \n",
       "0                   Community      No  \n",
       "1                         ART      No  \n",
       "2                     Refugee      No  \n",
       "3                   Community      No  \n",
       "4          Community_familiar      No  \n",
       "...                       ...     ...  \n",
       "1518                Community      No  \n",
       "1519                Community      No  \n",
       "1520                Community      No  \n",
       "1521                Community      No  \n",
       "1522                Community      No  \n",
       "\n",
       "[1523 rows x 7 columns]"
      ]
     },
     "metadata": {},
     "output_type": "display_data"
    }
   ],
   "source": [
    "data0 = pd.read_csv(\"../input/immigration-madrid-2021/Immigration_Madrid_2021.csv\")\n",
    "display(data0)"
   ]
  },
  {
   "cell_type": "code",
   "execution_count": 3,
   "id": "c99b54c4",
   "metadata": {
    "execution": {
     "iopub.execute_input": "2022-05-26T16:54:29.874732Z",
     "iopub.status.busy": "2022-05-26T16:54:29.874165Z",
     "iopub.status.idle": "2022-05-26T16:54:29.894269Z",
     "shell.execute_reply": "2022-05-26T16:54:29.892998Z"
    },
    "papermill": {
     "duration": 0.033559,
     "end_time": "2022-05-26T16:54:29.896735",
     "exception": false,
     "start_time": "2022-05-26T16:54:29.863176",
     "status": "completed"
    },
    "tags": []
   },
   "outputs": [
    {
     "data": {
      "text/plain": [
       "No     1417\n",
       "Yes     106\n",
       "Name: Working, dtype: int64"
      ]
     },
     "metadata": {},
     "output_type": "display_data"
    }
   ],
   "source": [
    "display(data0['Working'].value_counts())"
   ]
  },
  {
   "cell_type": "code",
   "execution_count": 4,
   "id": "2541967a",
   "metadata": {
    "execution": {
     "iopub.execute_input": "2022-05-26T16:54:29.917333Z",
     "iopub.status.busy": "2022-05-26T16:54:29.916955Z",
     "iopub.status.idle": "2022-05-26T16:54:29.931140Z",
     "shell.execute_reply": "2022-05-26T16:54:29.929063Z"
    },
    "papermill": {
     "duration": 0.02953,
     "end_time": "2022-05-26T16:54:29.935817",
     "exception": false,
     "start_time": "2022-05-26T16:54:29.906287",
     "status": "completed"
    },
    "tags": []
   },
   "outputs": [
    {
     "name": "stdout",
     "output_type": "stream",
     "text": [
      "['Unnamed: 0', 'Gender', 'Age', 'Studies', 'Nationality', 'Administrative_situation', 'Working']\n",
      "{'No': 0, 'Yes': 1}\n"
     ]
    }
   ],
   "source": [
    "print(data0.columns.tolist())\n",
    "Name=data0['Working'].unique().tolist()\n",
    "N=[0,1]\n",
    "normal_mapping=dict(zip(Name,N)) \n",
    "reverse_mapping=dict(zip(N,Name))        \n",
    "print(normal_mapping)\n",
    "data0=data0.drop('Unnamed: 0',axis=1)\n",
    "data0['Working']=data0['Working'].map(normal_mapping)"
   ]
  },
  {
   "cell_type": "code",
   "execution_count": 5,
   "id": "9a3de34e",
   "metadata": {
    "execution": {
     "iopub.execute_input": "2022-05-26T16:54:29.956834Z",
     "iopub.status.busy": "2022-05-26T16:54:29.956411Z",
     "iopub.status.idle": "2022-05-26T16:54:29.964059Z",
     "shell.execute_reply": "2022-05-26T16:54:29.962709Z"
    },
    "papermill": {
     "duration": 0.020352,
     "end_time": "2022-05-26T16:54:29.966267",
     "exception": false,
     "start_time": "2022-05-26T16:54:29.945915",
     "status": "completed"
    },
    "tags": []
   },
   "outputs": [],
   "source": [
    "from sklearn.preprocessing import LabelEncoder\n",
    "def labelencoder(df):\n",
    "    for c in df.columns:\n",
    "        if df[c].dtype=='object': \n",
    "            df[c] = df[c].fillna('N')\n",
    "            lbl = LabelEncoder()\n",
    "            lbl.fit(list(df[c].values))\n",
    "            df[c] = lbl.transform(df[c].values)\n",
    "    return df"
   ]
  },
  {
   "cell_type": "code",
   "execution_count": 6,
   "id": "a565c9ef",
   "metadata": {
    "execution": {
     "iopub.execute_input": "2022-05-26T16:54:29.987460Z",
     "iopub.status.busy": "2022-05-26T16:54:29.987071Z",
     "iopub.status.idle": "2022-05-26T16:54:30.003258Z",
     "shell.execute_reply": "2022-05-26T16:54:30.002418Z"
    },
    "papermill": {
     "duration": 0.029389,
     "end_time": "2022-05-26T16:54:30.005301",
     "exception": false,
     "start_time": "2022-05-26T16:54:29.975912",
     "status": "completed"
    },
    "tags": []
   },
   "outputs": [],
   "source": [
    "data1=labelencoder(data0.copy())"
   ]
  },
  {
   "cell_type": "code",
   "execution_count": 7,
   "id": "7133e16d",
   "metadata": {
    "execution": {
     "iopub.execute_input": "2022-05-26T16:54:30.027247Z",
     "iopub.status.busy": "2022-05-26T16:54:30.026573Z",
     "iopub.status.idle": "2022-05-26T16:54:30.033802Z",
     "shell.execute_reply": "2022-05-26T16:54:30.032855Z"
    },
    "papermill": {
     "duration": 0.020969,
     "end_time": "2022-05-26T16:54:30.035950",
     "exception": false,
     "start_time": "2022-05-26T16:54:30.014981",
     "status": "completed"
    },
    "tags": []
   },
   "outputs": [
    {
     "name": "stdout",
     "output_type": "stream",
     "text": [
      "1523\n"
     ]
    }
   ],
   "source": [
    "m=len(data1)\n",
    "print(m)\n",
    "M=list(range(m))\n",
    "random.seed(2020)\n",
    "random.shuffle(M)"
   ]
  },
  {
   "cell_type": "markdown",
   "id": "2ee0f2a7",
   "metadata": {
    "papermill": {
     "duration": 0.009329,
     "end_time": "2022-05-26T16:54:30.054790",
     "exception": false,
     "start_time": "2022-05-26T16:54:30.045461",
     "status": "completed"
    },
    "tags": []
   },
   "source": [
    "# Target setting"
   ]
  },
  {
   "cell_type": "code",
   "execution_count": 8,
   "id": "0422c06a",
   "metadata": {
    "execution": {
     "iopub.execute_input": "2022-05-26T16:54:30.076290Z",
     "iopub.status.busy": "2022-05-26T16:54:30.075601Z",
     "iopub.status.idle": "2022-05-26T16:54:30.085150Z",
     "shell.execute_reply": "2022-05-26T16:54:30.083554Z"
    },
    "papermill": {
     "duration": 0.024579,
     "end_time": "2022-05-26T16:54:30.089240",
     "exception": false,
     "start_time": "2022-05-26T16:54:30.064661",
     "status": "completed"
    },
    "tags": []
   },
   "outputs": [],
   "source": [
    "target=['Working']\n",
    "dataY=data1[target]\n",
    "dataX=data1.drop(target,axis=1)"
   ]
  },
  {
   "cell_type": "code",
   "execution_count": 9,
   "id": "a485bf36",
   "metadata": {
    "execution": {
     "iopub.execute_input": "2022-05-26T16:54:30.117288Z",
     "iopub.status.busy": "2022-05-26T16:54:30.116245Z",
     "iopub.status.idle": "2022-05-26T16:54:30.124792Z",
     "shell.execute_reply": "2022-05-26T16:54:30.123862Z"
    },
    "papermill": {
     "duration": 0.023227,
     "end_time": "2022-05-26T16:54:30.127409",
     "exception": false,
     "start_time": "2022-05-26T16:54:30.104182",
     "status": "completed"
    },
    "tags": []
   },
   "outputs": [],
   "source": [
    "trainX=dataX.iloc[M[0:(m//5)*4]]\n",
    "trainY=dataY.iloc[M[0:(m//5)*4]]\n",
    "testX=dataX.iloc[M[(m//5)*4:]]\n",
    "testY=dataY.iloc[M[(m//5)*4:]]"
   ]
  },
  {
   "cell_type": "code",
   "execution_count": 10,
   "id": "37d037c9",
   "metadata": {
    "execution": {
     "iopub.execute_input": "2022-05-26T16:54:30.157933Z",
     "iopub.status.busy": "2022-05-26T16:54:30.156785Z",
     "iopub.status.idle": "2022-05-26T16:54:30.163116Z",
     "shell.execute_reply": "2022-05-26T16:54:30.162369Z"
    },
    "papermill": {
     "duration": 0.028089,
     "end_time": "2022-05-26T16:54:30.167050",
     "exception": false,
     "start_time": "2022-05-26T16:54:30.138961",
     "status": "completed"
    },
    "tags": []
   },
   "outputs": [
    {
     "name": "stdout",
     "output_type": "stream",
     "text": [
      "['Gender', 'Age', 'Studies', 'Nationality', 'Administrative_situation']\n"
     ]
    }
   ],
   "source": [
    "df_columns = list(trainX.columns)\n",
    "print(df_columns)"
   ]
  },
  {
   "cell_type": "code",
   "execution_count": 11,
   "id": "f952203f",
   "metadata": {
    "execution": {
     "iopub.execute_input": "2022-05-26T16:54:30.193544Z",
     "iopub.status.busy": "2022-05-26T16:54:30.192562Z",
     "iopub.status.idle": "2022-05-26T16:54:30.198399Z",
     "shell.execute_reply": "2022-05-26T16:54:30.196805Z"
    },
    "papermill": {
     "duration": 0.019182,
     "end_time": "2022-05-26T16:54:30.200802",
     "exception": false,
     "start_time": "2022-05-26T16:54:30.181620",
     "status": "completed"
    },
    "tags": []
   },
   "outputs": [],
   "source": [
    "def create_numeric_feature(input_df):\n",
    "    use_columns = df_columns \n",
    "    return input_df[use_columns].copy()"
   ]
  },
  {
   "cell_type": "code",
   "execution_count": 12,
   "id": "4548dea4",
   "metadata": {
    "execution": {
     "iopub.execute_input": "2022-05-26T16:54:30.229507Z",
     "iopub.status.busy": "2022-05-26T16:54:30.228792Z",
     "iopub.status.idle": "2022-05-26T16:54:30.238600Z",
     "shell.execute_reply": "2022-05-26T16:54:30.237763Z"
    },
    "papermill": {
     "duration": 0.026431,
     "end_time": "2022-05-26T16:54:30.240953",
     "exception": false,
     "start_time": "2022-05-26T16:54:30.214522",
     "status": "completed"
    },
    "tags": []
   },
   "outputs": [],
   "source": [
    "from contextlib import contextmanager\n",
    "from time import time\n",
    "\n",
    "class Timer:\n",
    "    def __init__(self, logger=None, format_str='{:.3f}[s]', prefix=None, suffix=None, sep=' '):\n",
    "\n",
    "        if prefix: format_str = str(prefix) + sep + format_str\n",
    "        if suffix: format_str = format_str + sep + str(suffix)\n",
    "        self.format_str = format_str\n",
    "        self.logger = logger\n",
    "        self.start = None\n",
    "        self.end = None\n",
    "\n",
    "    @property\n",
    "    def duration(self):\n",
    "        if self.end is None:\n",
    "            return 0\n",
    "        return self.end - self.start\n",
    "\n",
    "    def __enter__(self):\n",
    "        self.start = time()\n",
    "\n",
    "    def __exit__(self, exc_type, exc_val, exc_tb):\n",
    "        self.end = time()\n",
    "        out_str = self.format_str.format(self.duration)\n",
    "        if self.logger:\n",
    "            self.logger.info(out_str)\n",
    "        else:\n",
    "            print(out_str)"
   ]
  },
  {
   "cell_type": "code",
   "execution_count": 13,
   "id": "7a874017",
   "metadata": {
    "execution": {
     "iopub.execute_input": "2022-05-26T16:54:30.263318Z",
     "iopub.status.busy": "2022-05-26T16:54:30.262244Z",
     "iopub.status.idle": "2022-05-26T16:54:30.270345Z",
     "shell.execute_reply": "2022-05-26T16:54:30.269349Z"
    },
    "papermill": {
     "duration": 0.022189,
     "end_time": "2022-05-26T16:54:30.273111",
     "exception": false,
     "start_time": "2022-05-26T16:54:30.250922",
     "status": "completed"
    },
    "tags": []
   },
   "outputs": [],
   "source": [
    "from tqdm import tqdm\n",
    "\n",
    "def to_feature(input_df):\n",
    "\n",
    "    processors = [\n",
    "        create_numeric_feature,\n",
    "    ]\n",
    "    \n",
    "    out_df = pd.DataFrame()\n",
    "    \n",
    "    for func in tqdm(processors, total=len(processors)):\n",
    "        with Timer(prefix='create' + func.__name__ + ' '):\n",
    "            _df = func(input_df)\n",
    "\n",
    "        assert len(_df) == len(input_df), func.__name__\n",
    "        out_df = pd.concat([out_df, _df], axis=1)\n",
    "        \n",
    "    return out_df"
   ]
  },
  {
   "cell_type": "code",
   "execution_count": 14,
   "id": "e97bc8cd",
   "metadata": {
    "execution": {
     "iopub.execute_input": "2022-05-26T16:54:30.297793Z",
     "iopub.status.busy": "2022-05-26T16:54:30.296831Z",
     "iopub.status.idle": "2022-05-26T16:54:30.316543Z",
     "shell.execute_reply": "2022-05-26T16:54:30.315737Z"
    },
    "papermill": {
     "duration": 0.034956,
     "end_time": "2022-05-26T16:54:30.319155",
     "exception": false,
     "start_time": "2022-05-26T16:54:30.284199",
     "status": "completed"
    },
    "tags": []
   },
   "outputs": [
    {
     "name": "stderr",
     "output_type": "stream",
     "text": [
      "100%|██████████| 1/1 [00:00<00:00, 417.30it/s]\n"
     ]
    },
    {
     "name": "stdout",
     "output_type": "stream",
     "text": [
      "createcreate_numeric_feature  0.001[s]\n"
     ]
    },
    {
     "name": "stderr",
     "output_type": "stream",
     "text": [
      "100%|██████████| 1/1 [00:00<00:00, 553.70it/s]"
     ]
    },
    {
     "name": "stdout",
     "output_type": "stream",
     "text": [
      "createcreate_numeric_feature  0.001[s]\n"
     ]
    },
    {
     "name": "stderr",
     "output_type": "stream",
     "text": [
      "\n"
     ]
    }
   ],
   "source": [
    "train_feat_df = to_feature(trainX)\n",
    "test_feat_df = to_feature(testX)"
   ]
  },
  {
   "cell_type": "markdown",
   "id": "323d2450",
   "metadata": {
    "papermill": {
     "duration": 0.010621,
     "end_time": "2022-05-26T16:54:30.340607",
     "exception": false,
     "start_time": "2022-05-26T16:54:30.329986",
     "status": "completed"
    },
    "tags": []
   },
   "source": [
    "# Model"
   ]
  },
  {
   "cell_type": "code",
   "execution_count": 15,
   "id": "0c06e412",
   "metadata": {
    "execution": {
     "iopub.execute_input": "2022-05-26T16:54:30.364983Z",
     "iopub.status.busy": "2022-05-26T16:54:30.364588Z",
     "iopub.status.idle": "2022-05-26T16:54:30.375371Z",
     "shell.execute_reply": "2022-05-26T16:54:30.374644Z"
    },
    "papermill": {
     "duration": 0.025605,
     "end_time": "2022-05-26T16:54:30.377865",
     "exception": false,
     "start_time": "2022-05-26T16:54:30.352260",
     "status": "completed"
    },
    "tags": []
   },
   "outputs": [],
   "source": [
    "import lightgbm as lgbm\n",
    "from sklearn.metrics import mean_squared_error\n",
    "\n",
    "def fit_lgbm(X, y, cv, \n",
    "             params: dict=None, \n",
    "             verbose: int=50):\n",
    "\n",
    "    if params is None:\n",
    "        params = {}\n",
    "\n",
    "    models = []\n",
    "    oof_pred = np.zeros_like(y, dtype=np.float)\n",
    "\n",
    "    for i, (idx_train, idx_valid) in enumerate(cv): \n",
    "        x_train, y_train = X[idx_train], y[idx_train]\n",
    "        x_valid, y_valid = X[idx_valid], y[idx_valid]\n",
    "\n",
    "        clf = lgbm.LGBMRegressor(**params)\n",
    "        \n",
    "        with Timer(prefix='fit fold={} '.format(i)):\n",
    "            clf.fit(x_train, y_train, \n",
    "                    eval_set=[(x_valid, y_valid)],  \n",
    "                    early_stopping_rounds=100,\n",
    "                    verbose=verbose)\n",
    "\n",
    "        pred_i = clf.predict(x_valid)\n",
    "        oof_pred[idx_valid] = pred_i\n",
    "        models.append(clf)\n",
    "        print(f'Fold {i} RMSLE: {mean_squared_error(y_valid, pred_i) ** .5:.4f}')\n",
    "        print()\n",
    "\n",
    "    score = mean_squared_error(y, oof_pred) ** .5\n",
    "    print('-' * 50)\n",
    "    print('FINISHED | Whole RMSLE: {:.4f}'.format(score))\n",
    "    return oof_pred, models"
   ]
  },
  {
   "cell_type": "code",
   "execution_count": 16,
   "id": "0a23feed",
   "metadata": {
    "execution": {
     "iopub.execute_input": "2022-05-26T16:54:30.402109Z",
     "iopub.status.busy": "2022-05-26T16:54:30.401563Z",
     "iopub.status.idle": "2022-05-26T16:54:30.407100Z",
     "shell.execute_reply": "2022-05-26T16:54:30.405972Z"
    },
    "papermill": {
     "duration": 0.0205,
     "end_time": "2022-05-26T16:54:30.409716",
     "exception": false,
     "start_time": "2022-05-26T16:54:30.389216",
     "status": "completed"
    },
    "tags": []
   },
   "outputs": [],
   "source": [
    "params = {\n",
    "    'objective': 'rmse', \n",
    "    'learning_rate': .1,\n",
    "    'reg_lambda': 1.,\n",
    "    'reg_alpha': .1,\n",
    "    'max_depth': 5, \n",
    "    'n_estimators': 10000, \n",
    "    'colsample_bytree': .5, \n",
    "    'min_child_samples': 10,\n",
    "    'subsample_freq': 3,\n",
    "    'subsample': .9,\n",
    "    'importance_type': 'gain', \n",
    "    'random_state': 71,\n",
    "    'num_leaves': 62\n",
    "}"
   ]
  },
  {
   "cell_type": "code",
   "execution_count": 17,
   "id": "fa9770b4",
   "metadata": {
    "execution": {
     "iopub.execute_input": "2022-05-26T16:54:30.434455Z",
     "iopub.status.busy": "2022-05-26T16:54:30.433886Z",
     "iopub.status.idle": "2022-05-26T16:54:30.444132Z",
     "shell.execute_reply": "2022-05-26T16:54:30.442883Z"
    },
    "papermill": {
     "duration": 0.025614,
     "end_time": "2022-05-26T16:54:30.446773",
     "exception": false,
     "start_time": "2022-05-26T16:54:30.421159",
     "status": "completed"
    },
    "tags": []
   },
   "outputs": [
    {
     "data": {
      "text/html": [
       "<div>\n",
       "<style scoped>\n",
       "    .dataframe tbody tr th:only-of-type {\n",
       "        vertical-align: middle;\n",
       "    }\n",
       "\n",
       "    .dataframe tbody tr th {\n",
       "        vertical-align: top;\n",
       "    }\n",
       "\n",
       "    .dataframe thead th {\n",
       "        text-align: right;\n",
       "    }\n",
       "</style>\n",
       "<table border=\"1\" class=\"dataframe\">\n",
       "  <thead>\n",
       "    <tr style=\"text-align: right;\">\n",
       "      <th></th>\n",
       "      <th>Working</th>\n",
       "    </tr>\n",
       "  </thead>\n",
       "  <tbody>\n",
       "    <tr>\n",
       "      <th>135</th>\n",
       "      <td>0</td>\n",
       "    </tr>\n",
       "    <tr>\n",
       "      <th>465</th>\n",
       "      <td>1</td>\n",
       "    </tr>\n",
       "    <tr>\n",
       "      <th>121</th>\n",
       "      <td>0</td>\n",
       "    </tr>\n",
       "    <tr>\n",
       "      <th>995</th>\n",
       "      <td>0</td>\n",
       "    </tr>\n",
       "    <tr>\n",
       "      <th>1142</th>\n",
       "      <td>0</td>\n",
       "    </tr>\n",
       "    <tr>\n",
       "      <th>...</th>\n",
       "      <td>...</td>\n",
       "    </tr>\n",
       "    <tr>\n",
       "      <th>637</th>\n",
       "      <td>0</td>\n",
       "    </tr>\n",
       "    <tr>\n",
       "      <th>1159</th>\n",
       "      <td>0</td>\n",
       "    </tr>\n",
       "    <tr>\n",
       "      <th>1045</th>\n",
       "      <td>0</td>\n",
       "    </tr>\n",
       "    <tr>\n",
       "      <th>96</th>\n",
       "      <td>0</td>\n",
       "    </tr>\n",
       "    <tr>\n",
       "      <th>348</th>\n",
       "      <td>0</td>\n",
       "    </tr>\n",
       "  </tbody>\n",
       "</table>\n",
       "<p>1216 rows × 1 columns</p>\n",
       "</div>"
      ],
      "text/plain": [
       "      Working\n",
       "135         0\n",
       "465         1\n",
       "121         0\n",
       "995         0\n",
       "1142        0\n",
       "...       ...\n",
       "637         0\n",
       "1159        0\n",
       "1045        0\n",
       "96          0\n",
       "348         0\n",
       "\n",
       "[1216 rows x 1 columns]"
      ]
     },
     "execution_count": 17,
     "metadata": {},
     "output_type": "execute_result"
    }
   ],
   "source": [
    "y = trainY\n",
    "ydf=pd.DataFrame(y)\n",
    "ydf"
   ]
  },
  {
   "cell_type": "code",
   "execution_count": 18,
   "id": "b5d2a4ae",
   "metadata": {
    "execution": {
     "iopub.execute_input": "2022-05-26T16:54:30.471078Z",
     "iopub.status.busy": "2022-05-26T16:54:30.470134Z",
     "iopub.status.idle": "2022-05-26T16:54:31.151297Z",
     "shell.execute_reply": "2022-05-26T16:54:31.149966Z"
    },
    "papermill": {
     "duration": 0.696204,
     "end_time": "2022-05-26T16:54:31.154291",
     "exception": false,
     "start_time": "2022-05-26T16:54:30.458087",
     "status": "completed"
    },
    "tags": []
   },
   "outputs": [
    {
     "name": "stderr",
     "output_type": "stream",
     "text": [
      "/opt/conda/lib/python3.7/site-packages/ipykernel_launcher.py:12: DeprecationWarning: `np.float` is a deprecated alias for the builtin `float`. To silence this warning, use `float` by itself. Doing this will not modify any behavior and is safe. If you specifically wanted the numpy scalar type, use `np.float64` here.\n",
      "Deprecated in NumPy 1.20; for more details and guidance: https://numpy.org/devdocs/release/1.20.0-notes.html#deprecations\n",
      "  if sys.path[0] == \"\":\n",
      "/opt/conda/lib/python3.7/site-packages/lightgbm/sklearn.py:726: UserWarning: 'early_stopping_rounds' argument is deprecated and will be removed in a future release of LightGBM. Pass 'early_stopping()' callback via 'callbacks' argument instead.\n",
      "  _log_warning(\"'early_stopping_rounds' argument is deprecated and will be removed in a future release of LightGBM. \"\n",
      "/opt/conda/lib/python3.7/site-packages/lightgbm/sklearn.py:736: UserWarning: 'verbose' argument is deprecated and will be removed in a future release of LightGBM. Pass 'log_evaluation()' callback via 'callbacks' argument instead.\n",
      "  _log_warning(\"'verbose' argument is deprecated and will be removed in a future release of LightGBM. \"\n",
      "/opt/conda/lib/python3.7/site-packages/lightgbm/sklearn.py:726: UserWarning: 'early_stopping_rounds' argument is deprecated and will be removed in a future release of LightGBM. Pass 'early_stopping()' callback via 'callbacks' argument instead.\n",
      "  _log_warning(\"'early_stopping_rounds' argument is deprecated and will be removed in a future release of LightGBM. \"\n",
      "/opt/conda/lib/python3.7/site-packages/lightgbm/sklearn.py:736: UserWarning: 'verbose' argument is deprecated and will be removed in a future release of LightGBM. Pass 'log_evaluation()' callback via 'callbacks' argument instead.\n",
      "  _log_warning(\"'verbose' argument is deprecated and will be removed in a future release of LightGBM. \"\n"
     ]
    },
    {
     "name": "stdout",
     "output_type": "stream",
     "text": [
      "fit fold=0  0.138[s]\n",
      "Fold 0 RMSLE: 0.2362\n",
      "\n",
      "fit fold=1  0.060[s]\n",
      "Fold 1 RMSLE: 0.2401\n",
      "\n",
      "fit fold=2  0.085[s]\n",
      "Fold 2 RMSLE: 0.2447\n",
      "\n"
     ]
    },
    {
     "name": "stderr",
     "output_type": "stream",
     "text": [
      "/opt/conda/lib/python3.7/site-packages/lightgbm/sklearn.py:726: UserWarning: 'early_stopping_rounds' argument is deprecated and will be removed in a future release of LightGBM. Pass 'early_stopping()' callback via 'callbacks' argument instead.\n",
      "  _log_warning(\"'early_stopping_rounds' argument is deprecated and will be removed in a future release of LightGBM. \"\n",
      "/opt/conda/lib/python3.7/site-packages/lightgbm/sklearn.py:736: UserWarning: 'verbose' argument is deprecated and will be removed in a future release of LightGBM. Pass 'log_evaluation()' callback via 'callbacks' argument instead.\n",
      "  _log_warning(\"'verbose' argument is deprecated and will be removed in a future release of LightGBM. \"\n",
      "/opt/conda/lib/python3.7/site-packages/lightgbm/sklearn.py:726: UserWarning: 'early_stopping_rounds' argument is deprecated and will be removed in a future release of LightGBM. Pass 'early_stopping()' callback via 'callbacks' argument instead.\n",
      "  _log_warning(\"'early_stopping_rounds' argument is deprecated and will be removed in a future release of LightGBM. \"\n",
      "/opt/conda/lib/python3.7/site-packages/lightgbm/sklearn.py:736: UserWarning: 'verbose' argument is deprecated and will be removed in a future release of LightGBM. Pass 'log_evaluation()' callback via 'callbacks' argument instead.\n",
      "  _log_warning(\"'verbose' argument is deprecated and will be removed in a future release of LightGBM. \"\n",
      "/opt/conda/lib/python3.7/site-packages/lightgbm/sklearn.py:726: UserWarning: 'early_stopping_rounds' argument is deprecated and will be removed in a future release of LightGBM. Pass 'early_stopping()' callback via 'callbacks' argument instead.\n",
      "  _log_warning(\"'early_stopping_rounds' argument is deprecated and will be removed in a future release of LightGBM. \"\n",
      "/opt/conda/lib/python3.7/site-packages/lightgbm/sklearn.py:736: UserWarning: 'verbose' argument is deprecated and will be removed in a future release of LightGBM. Pass 'log_evaluation()' callback via 'callbacks' argument instead.\n",
      "  _log_warning(\"'verbose' argument is deprecated and will be removed in a future release of LightGBM. \"\n"
     ]
    },
    {
     "name": "stdout",
     "output_type": "stream",
     "text": [
      "fit fold=3  0.066[s]\n",
      "Fold 3 RMSLE: 0.2729\n",
      "\n",
      "fit fold=4  0.066[s]\n",
      "Fold 4 RMSLE: 0.2396\n",
      "\n",
      "--------------------------------------------------\n",
      "FINISHED | Whole RMSLE: 0.2470\n"
     ]
    },
    {
     "data": {
      "image/png": "[encoded data removed]",
      "text/plain": [
       "<Figure size 432x432 with 1 Axes>"
      ]
     },
     "metadata": {
      "needs_background": "light"
     },
     "output_type": "display_data"
    }
   ],
   "source": [
    "from sklearn.model_selection import KFold\n",
    "\n",
    "for i in range(1):\n",
    "    fold = KFold(n_splits=5, shuffle=True, random_state=71)\n",
    "    ydfi=ydf.iloc[:,i]\n",
    "    y=np.array(ydfi)\n",
    "    cv = list(fold.split(train_feat_df, y))\n",
    "    oof, models = fit_lgbm(train_feat_df.values, y, cv, params=params, verbose=500)\n",
    "    \n",
    "    fig,ax = plt.subplots(figsize=(6,6))\n",
    "    ax.set_title(target[i],fontsize=20)\n",
    "    ax.set_xlabel('Actual Working',fontsize=12)\n",
    "    ax.set_ylabel('Predicted Working',fontsize=12)\n",
    "    ax.scatter(y,oof)\n"
   ]
  },
  {
   "cell_type": "markdown",
   "id": "9d0da6f0",
   "metadata": {
    "papermill": {
     "duration": 0.012298,
     "end_time": "2022-05-26T16:54:31.179567",
     "exception": false,
     "start_time": "2022-05-26T16:54:31.167269",
     "status": "completed"
    },
    "tags": []
   },
   "source": [
    "# Visualize Importance"
   ]
  },
  {
   "cell_type": "code",
   "execution_count": 19,
   "id": "c205c75d",
   "metadata": {
    "execution": {
     "iopub.execute_input": "2022-05-26T16:54:31.207372Z",
     "iopub.status.busy": "2022-05-26T16:54:31.206101Z",
     "iopub.status.idle": "2022-05-26T16:54:31.218889Z",
     "shell.execute_reply": "2022-05-26T16:54:31.217873Z"
    },
    "papermill": {
     "duration": 0.029163,
     "end_time": "2022-05-26T16:54:31.221155",
     "exception": false,
     "start_time": "2022-05-26T16:54:31.191992",
     "status": "completed"
    },
    "tags": []
   },
   "outputs": [],
   "source": [
    "def visualize_importance(models, feat_train_df):\n",
    "\n",
    "    feature_importance_df = pd.DataFrame()\n",
    "    for i, model in enumerate(models):\n",
    "        _df = pd.DataFrame()\n",
    "        _df['feature_importance'] = model.feature_importances_\n",
    "        _df['column'] = feat_train_df.columns\n",
    "        _df['fold'] = i + 1\n",
    "        feature_importance_df = pd.concat([feature_importance_df, _df], \n",
    "                                          axis=0, ignore_index=True)\n",
    "\n",
    "    order = feature_importance_df.groupby('column')\\\n",
    "        .sum()[['feature_importance']]\\\n",
    "        .sort_values('feature_importance', ascending=False).index[:50]\n",
    "\n",
    "    fig, ax = plt.subplots(figsize=(8, max(6, len(order) * .25)))\n",
    "    sns.boxenplot(data=feature_importance_df, \n",
    "                  x='feature_importance', \n",
    "                  y='column', \n",
    "                  order=order, \n",
    "                  ax=ax, \n",
    "                  palette='viridis', \n",
    "                  orient='h')\n",
    "    \n",
    "    ax.tick_params(axis='x', rotation=0)\n",
    "    #ax.set_title('Importance')\n",
    "    ax.grid()\n",
    "    fig.tight_layout()\n",
    "    \n",
    "    return fig,ax\n",
    "\n",
    "#fig, ax = visualize_importance(models, train_feat_df)"
   ]
  },
  {
   "cell_type": "code",
   "execution_count": 20,
   "id": "8f482a94",
   "metadata": {
    "execution": {
     "iopub.execute_input": "2022-05-26T16:54:31.246723Z",
     "iopub.status.busy": "2022-05-26T16:54:31.245945Z",
     "iopub.status.idle": "2022-05-26T16:54:31.969544Z",
     "shell.execute_reply": "2022-05-26T16:54:31.968368Z"
    },
    "papermill": {
     "duration": 0.739224,
     "end_time": "2022-05-26T16:54:31.972066",
     "exception": false,
     "start_time": "2022-05-26T16:54:31.232842",
     "status": "completed"
    },
    "tags": []
   },
   "outputs": [
    {
     "name": "stderr",
     "output_type": "stream",
     "text": [
      "/opt/conda/lib/python3.7/site-packages/ipykernel_launcher.py:12: DeprecationWarning: `np.float` is a deprecated alias for the builtin `float`. To silence this warning, use `float` by itself. Doing this will not modify any behavior and is safe. If you specifically wanted the numpy scalar type, use `np.float64` here.\n",
      "Deprecated in NumPy 1.20; for more details and guidance: https://numpy.org/devdocs/release/1.20.0-notes.html#deprecations\n",
      "  if sys.path[0] == \"\":\n",
      "/opt/conda/lib/python3.7/site-packages/lightgbm/sklearn.py:726: UserWarning: 'early_stopping_rounds' argument is deprecated and will be removed in a future release of LightGBM. Pass 'early_stopping()' callback via 'callbacks' argument instead.\n",
      "  _log_warning(\"'early_stopping_rounds' argument is deprecated and will be removed in a future release of LightGBM. \"\n",
      "/opt/conda/lib/python3.7/site-packages/lightgbm/sklearn.py:736: UserWarning: 'verbose' argument is deprecated and will be removed in a future release of LightGBM. Pass 'log_evaluation()' callback via 'callbacks' argument instead.\n",
      "  _log_warning(\"'verbose' argument is deprecated and will be removed in a future release of LightGBM. \"\n",
      "/opt/conda/lib/python3.7/site-packages/lightgbm/sklearn.py:726: UserWarning: 'early_stopping_rounds' argument is deprecated and will be removed in a future release of LightGBM. Pass 'early_stopping()' callback via 'callbacks' argument instead.\n",
      "  _log_warning(\"'early_stopping_rounds' argument is deprecated and will be removed in a future release of LightGBM. \"\n",
      "/opt/conda/lib/python3.7/site-packages/lightgbm/sklearn.py:736: UserWarning: 'verbose' argument is deprecated and will be removed in a future release of LightGBM. Pass 'log_evaluation()' callback via 'callbacks' argument instead.\n",
      "  _log_warning(\"'verbose' argument is deprecated and will be removed in a future release of LightGBM. \"\n",
      "/opt/conda/lib/python3.7/site-packages/lightgbm/sklearn.py:726: UserWarning: 'early_stopping_rounds' argument is deprecated and will be removed in a future release of LightGBM. Pass 'early_stopping()' callback via 'callbacks' argument instead.\n",
      "  _log_warning(\"'early_stopping_rounds' argument is deprecated and will be removed in a future release of LightGBM. \"\n",
      "/opt/conda/lib/python3.7/site-packages/lightgbm/sklearn.py:736: UserWarning: 'verbose' argument is deprecated and will be removed in a future release of LightGBM. Pass 'log_evaluation()' callback via 'callbacks' argument instead.\n",
      "  _log_warning(\"'verbose' argument is deprecated and will be removed in a future release of LightGBM. \"\n"
     ]
    },
    {
     "name": "stdout",
     "output_type": "stream",
     "text": [
      "fit fold=0  0.077[s]\n",
      "Fold 0 RMSLE: 0.2362\n",
      "\n",
      "fit fold=1  0.057[s]\n",
      "Fold 1 RMSLE: 0.2401\n",
      "\n",
      "fit fold=2  0.084[s]\n",
      "Fold 2 RMSLE: 0.2447\n",
      "\n"
     ]
    },
    {
     "name": "stderr",
     "output_type": "stream",
     "text": [
      "/opt/conda/lib/python3.7/site-packages/lightgbm/sklearn.py:726: UserWarning: 'early_stopping_rounds' argument is deprecated and will be removed in a future release of LightGBM. Pass 'early_stopping()' callback via 'callbacks' argument instead.\n",
      "  _log_warning(\"'early_stopping_rounds' argument is deprecated and will be removed in a future release of LightGBM. \"\n",
      "/opt/conda/lib/python3.7/site-packages/lightgbm/sklearn.py:736: UserWarning: 'verbose' argument is deprecated and will be removed in a future release of LightGBM. Pass 'log_evaluation()' callback via 'callbacks' argument instead.\n",
      "  _log_warning(\"'verbose' argument is deprecated and will be removed in a future release of LightGBM. \"\n",
      "/opt/conda/lib/python3.7/site-packages/lightgbm/sklearn.py:726: UserWarning: 'early_stopping_rounds' argument is deprecated and will be removed in a future release of LightGBM. Pass 'early_stopping()' callback via 'callbacks' argument instead.\n",
      "  _log_warning(\"'early_stopping_rounds' argument is deprecated and will be removed in a future release of LightGBM. \"\n",
      "/opt/conda/lib/python3.7/site-packages/lightgbm/sklearn.py:736: UserWarning: 'verbose' argument is deprecated and will be removed in a future release of LightGBM. Pass 'log_evaluation()' callback via 'callbacks' argument instead.\n",
      "  _log_warning(\"'verbose' argument is deprecated and will be removed in a future release of LightGBM. \"\n"
     ]
    },
    {
     "name": "stdout",
     "output_type": "stream",
     "text": [
      "fit fold=3  0.069[s]\n",
      "Fold 3 RMSLE: 0.2729\n",
      "\n",
      "fit fold=4  0.058[s]\n",
      "Fold 4 RMSLE: 0.2396\n",
      "\n",
      "--------------------------------------------------\n",
      "FINISHED | Whole RMSLE: 0.2470\n"
     ]
    },
    {
     "data": {
      "image/png": "[encoded data removed]",
      "text/plain": [
       "<Figure size 576x432 with 1 Axes>"
      ]
     },
     "metadata": {
      "needs_background": "light"
     },
     "output_type": "display_data"
    }
   ],
   "source": [
    "for i in range(1):\n",
    "    fold = KFold(n_splits=5, shuffle=True, random_state=71)\n",
    "    ydfi=ydf.iloc[:,i]\n",
    "    y=np.array(ydfi)\n",
    "    cv = list(fold.split(train_feat_df, y))\n",
    "    oof, models = fit_lgbm(train_feat_df.values, y, cv, params=params, verbose=500)\n",
    "    fig, ax = visualize_importance(models, train_feat_df)\n",
    "    ax.set_title(target[i]+' Imortance',fontsize=20)"
   ]
  },
  {
   "cell_type": "code",
   "execution_count": 21,
   "id": "922ac802",
   "metadata": {
    "execution": {
     "iopub.execute_input": "2022-05-26T16:54:32.000563Z",
     "iopub.status.busy": "2022-05-26T16:54:31.999762Z",
     "iopub.status.idle": "2022-05-26T16:54:32.013601Z",
     "shell.execute_reply": "2022-05-26T16:54:32.011219Z"
    },
    "papermill": {
     "duration": 0.033422,
     "end_time": "2022-05-26T16:54:32.018268",
     "exception": false,
     "start_time": "2022-05-26T16:54:31.984846",
     "status": "completed"
    },
    "tags": []
   },
   "outputs": [
    {
     "name": "stdout",
     "output_type": "stream",
     "text": [
      "(5, 307)\n",
      "(307, 5)\n"
     ]
    }
   ],
   "source": [
    "pred0 = np.array([model.predict(test_feat_df.values) for model in models])\n",
    "print(pred0.shape)\n",
    "pred1=pred0.reshape(-1,5)\n",
    "print(pred1.shape)"
   ]
  },
  {
   "cell_type": "code",
   "execution_count": 22,
   "id": "80ea980f",
   "metadata": {
    "execution": {
     "iopub.execute_input": "2022-05-26T16:54:32.049288Z",
     "iopub.status.busy": "2022-05-26T16:54:32.048063Z",
     "iopub.status.idle": "2022-05-26T16:54:32.073693Z",
     "shell.execute_reply": "2022-05-26T16:54:32.072319Z"
    },
    "papermill": {
     "duration": 0.042785,
     "end_time": "2022-05-26T16:54:32.076296",
     "exception": false,
     "start_time": "2022-05-26T16:54:32.033511",
     "status": "completed"
    },
    "tags": []
   },
   "outputs": [],
   "source": [
    "pred2=[]\n",
    "for item in pred1:\n",
    "    pred2+=[round(np.mean(item),0)]\n",
    "    \n",
    "ans=[]\n",
    "for i in range(len(testY)):\n",
    "    ans+=[testY.iloc[i,0]]"
   ]
  },
  {
   "cell_type": "code",
   "execution_count": 23,
   "id": "069e12a9",
   "metadata": {
    "execution": {
     "iopub.execute_input": "2022-05-26T16:54:32.104742Z",
     "iopub.status.busy": "2022-05-26T16:54:32.104208Z",
     "iopub.status.idle": "2022-05-26T16:54:32.126169Z",
     "shell.execute_reply": "2022-05-26T16:54:32.125048Z"
    },
    "papermill": {
     "duration": 0.040485,
     "end_time": "2022-05-26T16:54:32.130048",
     "exception": false,
     "start_time": "2022-05-26T16:54:32.089563",
     "status": "completed"
    },
    "tags": []
   },
   "outputs": [
    {
     "name": "stdout",
     "output_type": "stream",
     "text": [
      "              precision    recall  f1-score   support\n",
      "\n",
      "          No       0.92      1.00      0.96       282\n",
      "         Yes       0.00      0.00      0.00        25\n",
      "\n",
      "    accuracy                           0.92       307\n",
      "   macro avg       0.46      0.50      0.48       307\n",
      "weighted avg       0.84      0.92      0.88       307\n",
      "\n"
     ]
    },
    {
     "name": "stderr",
     "output_type": "stream",
     "text": [
      "/opt/conda/lib/python3.7/site-packages/sklearn/metrics/_classification.py:1318: UndefinedMetricWarning: Precision and F-score are ill-defined and being set to 0.0 in labels with no predicted samples. Use `zero_division` parameter to control this behavior.\n",
      "  _warn_prf(average, modifier, msg_start, len(result))\n",
      "/opt/conda/lib/python3.7/site-packages/sklearn/metrics/_classification.py:1318: UndefinedMetricWarning: Precision and F-score are ill-defined and being set to 0.0 in labels with no predicted samples. Use `zero_division` parameter to control this behavior.\n",
      "  _warn_prf(average, modifier, msg_start, len(result))\n",
      "/opt/conda/lib/python3.7/site-packages/sklearn/metrics/_classification.py:1318: UndefinedMetricWarning: Precision and F-score are ill-defined and being set to 0.0 in labels with no predicted samples. Use `zero_division` parameter to control this behavior.\n",
      "  _warn_prf(average, modifier, msg_start, len(result))\n"
     ]
    }
   ],
   "source": [
    "print(classification_report(ans,pred2,target_names=Name))"
   ]
  },
  {
   "cell_type": "code",
   "execution_count": 24,
   "id": "1ad30c2a",
   "metadata": {
    "execution": {
     "iopub.execute_input": "2022-05-26T16:54:32.157124Z",
     "iopub.status.busy": "2022-05-26T16:54:32.156449Z",
     "iopub.status.idle": "2022-05-26T16:54:32.177654Z",
     "shell.execute_reply": "2022-05-26T16:54:32.176573Z"
    },
    "papermill": {
     "duration": 0.037358,
     "end_time": "2022-05-26T16:54:32.180075",
     "exception": false,
     "start_time": "2022-05-26T16:54:32.142717",
     "status": "completed"
    },
    "tags": []
   },
   "outputs": [
    {
     "data": {
      "text/html": [
       "<div>\n",
       "<style scoped>\n",
       "    .dataframe tbody tr th:only-of-type {\n",
       "        vertical-align: middle;\n",
       "    }\n",
       "\n",
       "    .dataframe tbody tr th {\n",
       "        vertical-align: top;\n",
       "    }\n",
       "\n",
       "    .dataframe thead th {\n",
       "        text-align: right;\n",
       "    }\n",
       "</style>\n",
       "<table border=\"1\" class=\"dataframe\">\n",
       "  <thead>\n",
       "    <tr style=\"text-align: right;\">\n",
       "      <th></th>\n",
       "      <th>Gender</th>\n",
       "      <th>Age</th>\n",
       "      <th>Studies</th>\n",
       "      <th>Nationality</th>\n",
       "      <th>Administrative_situation</th>\n",
       "      <th>Working</th>\n",
       "    </tr>\n",
       "  </thead>\n",
       "  <tbody>\n",
       "    <tr>\n",
       "      <th>0</th>\n",
       "      <td>Women</td>\n",
       "      <td>51-65</td>\n",
       "      <td>College</td>\n",
       "      <td>España</td>\n",
       "      <td>Community</td>\n",
       "      <td>0</td>\n",
       "    </tr>\n",
       "    <tr>\n",
       "      <th>1</th>\n",
       "      <td>Women</td>\n",
       "      <td>51-65</td>\n",
       "      <td>College</td>\n",
       "      <td>Venezuela</td>\n",
       "      <td>ART</td>\n",
       "      <td>0</td>\n",
       "    </tr>\n",
       "    <tr>\n",
       "      <th>2</th>\n",
       "      <td>Women</td>\n",
       "      <td>18-30</td>\n",
       "      <td>Pre-college</td>\n",
       "      <td>Honduras</td>\n",
       "      <td>Refugee</td>\n",
       "      <td>0</td>\n",
       "    </tr>\n",
       "    <tr>\n",
       "      <th>3</th>\n",
       "      <td>Women</td>\n",
       "      <td>18-30</td>\n",
       "      <td>Pre-college</td>\n",
       "      <td>Venezuela</td>\n",
       "      <td>Community</td>\n",
       "      <td>0</td>\n",
       "    </tr>\n",
       "    <tr>\n",
       "      <th>4</th>\n",
       "      <td>Women</td>\n",
       "      <td>18-30</td>\n",
       "      <td>Pre-college</td>\n",
       "      <td>República Dominicana</td>\n",
       "      <td>Community_familiar</td>\n",
       "      <td>0</td>\n",
       "    </tr>\n",
       "    <tr>\n",
       "      <th>...</th>\n",
       "      <td>...</td>\n",
       "      <td>...</td>\n",
       "      <td>...</td>\n",
       "      <td>...</td>\n",
       "      <td>...</td>\n",
       "      <td>...</td>\n",
       "    </tr>\n",
       "    <tr>\n",
       "      <th>1518</th>\n",
       "      <td>Women</td>\n",
       "      <td>18-30</td>\n",
       "      <td>Elementary_school</td>\n",
       "      <td>España</td>\n",
       "      <td>Community</td>\n",
       "      <td>0</td>\n",
       "    </tr>\n",
       "    <tr>\n",
       "      <th>1519</th>\n",
       "      <td>Women</td>\n",
       "      <td>18-30</td>\n",
       "      <td>Elementary_school</td>\n",
       "      <td>España</td>\n",
       "      <td>Community</td>\n",
       "      <td>0</td>\n",
       "    </tr>\n",
       "    <tr>\n",
       "      <th>1520</th>\n",
       "      <td>Women</td>\n",
       "      <td>18-30</td>\n",
       "      <td>Elementary_school</td>\n",
       "      <td>Marruecos</td>\n",
       "      <td>Community</td>\n",
       "      <td>0</td>\n",
       "    </tr>\n",
       "    <tr>\n",
       "      <th>1521</th>\n",
       "      <td>Women</td>\n",
       "      <td>18-30</td>\n",
       "      <td>Elementary_school</td>\n",
       "      <td>Marruecos</td>\n",
       "      <td>Community</td>\n",
       "      <td>0</td>\n",
       "    </tr>\n",
       "    <tr>\n",
       "      <th>1522</th>\n",
       "      <td>Women</td>\n",
       "      <td>18-30</td>\n",
       "      <td>Elementary_school</td>\n",
       "      <td>Marruecos</td>\n",
       "      <td>Community</td>\n",
       "      <td>0</td>\n",
       "    </tr>\n",
       "  </tbody>\n",
       "</table>\n",
       "<p>1523 rows × 6 columns</p>\n",
       "</div>"
      ],
      "text/plain": [
       "     Gender    Age            Studies           Nationality  \\\n",
       "0     Women  51-65            College                España   \n",
       "1     Women  51-65            College             Venezuela   \n",
       "2     Women  18-30        Pre-college              Honduras   \n",
       "3     Women  18-30        Pre-college             Venezuela   \n",
       "4     Women  18-30        Pre-college  República Dominicana   \n",
       "...     ...    ...                ...                   ...   \n",
       "1518  Women  18-30  Elementary_school                España   \n",
       "1519  Women  18-30  Elementary_school                España   \n",
       "1520  Women  18-30  Elementary_school             Marruecos   \n",
       "1521  Women  18-30  Elementary_school             Marruecos   \n",
       "1522  Women  18-30  Elementary_school             Marruecos   \n",
       "\n",
       "     Administrative_situation  Working  \n",
       "0                   Community        0  \n",
       "1                         ART        0  \n",
       "2                     Refugee        0  \n",
       "3                   Community        0  \n",
       "4          Community_familiar        0  \n",
       "...                       ...      ...  \n",
       "1518                Community        0  \n",
       "1519                Community        0  \n",
       "1520                Community        0  \n",
       "1521                Community        0  \n",
       "1522                Community        0  \n",
       "\n",
       "[1523 rows x 6 columns]"
      ]
     },
     "execution_count": 24,
     "metadata": {},
     "output_type": "execute_result"
    }
   ],
   "source": [
    "data0"
   ]
  },
  {
   "cell_type": "code",
   "execution_count": 25,
   "id": "93c7a43b",
   "metadata": {
    "execution": {
     "iopub.execute_input": "2022-05-26T16:54:32.209028Z",
     "iopub.status.busy": "2022-05-26T16:54:32.208564Z",
     "iopub.status.idle": "2022-05-26T16:54:32.230227Z",
     "shell.execute_reply": "2022-05-26T16:54:32.229108Z"
    },
    "papermill": {
     "duration": 0.039321,
     "end_time": "2022-05-26T16:54:32.232620",
     "exception": false,
     "start_time": "2022-05-26T16:54:32.193299",
     "status": "completed"
    },
    "tags": []
   },
   "outputs": [
    {
     "data": {
      "text/html": [
       "<div>\n",
       "<style scoped>\n",
       "    .dataframe tbody tr th:only-of-type {\n",
       "        vertical-align: middle;\n",
       "    }\n",
       "\n",
       "    .dataframe tbody tr th {\n",
       "        vertical-align: top;\n",
       "    }\n",
       "\n",
       "    .dataframe thead th {\n",
       "        text-align: right;\n",
       "    }\n",
       "</style>\n",
       "<table border=\"1\" class=\"dataframe\">\n",
       "  <thead>\n",
       "    <tr style=\"text-align: right;\">\n",
       "      <th></th>\n",
       "      <th>Nationality</th>\n",
       "      <th>Working</th>\n",
       "    </tr>\n",
       "  </thead>\n",
       "  <tbody>\n",
       "    <tr>\n",
       "      <th>36</th>\n",
       "      <td>República de Corea</td>\n",
       "      <td>0.400000</td>\n",
       "    </tr>\n",
       "    <tr>\n",
       "      <th>17</th>\n",
       "      <td>Gambia</td>\n",
       "      <td>0.333333</td>\n",
       "    </tr>\n",
       "    <tr>\n",
       "      <th>39</th>\n",
       "      <td>Sahara</td>\n",
       "      <td>0.250000</td>\n",
       "    </tr>\n",
       "    <tr>\n",
       "      <th>19</th>\n",
       "      <td>Guinea</td>\n",
       "      <td>0.166667</td>\n",
       "    </tr>\n",
       "    <tr>\n",
       "      <th>45</th>\n",
       "      <td>Venezuela</td>\n",
       "      <td>0.147541</td>\n",
       "    </tr>\n",
       "    <tr>\n",
       "      <th>8</th>\n",
       "      <td>China</td>\n",
       "      <td>0.142857</td>\n",
       "    </tr>\n",
       "    <tr>\n",
       "      <th>26</th>\n",
       "      <td>Malí</td>\n",
       "      <td>0.125000</td>\n",
       "    </tr>\n",
       "    <tr>\n",
       "      <th>44</th>\n",
       "      <td>Ucrania</td>\n",
       "      <td>0.111111</td>\n",
       "    </tr>\n",
       "    <tr>\n",
       "      <th>28</th>\n",
       "      <td>Nicaragua</td>\n",
       "      <td>0.103448</td>\n",
       "    </tr>\n",
       "    <tr>\n",
       "      <th>29</th>\n",
       "      <td>Nigeria</td>\n",
       "      <td>0.100000</td>\n",
       "    </tr>\n",
       "    <tr>\n",
       "      <th>13</th>\n",
       "      <td>Ecuador</td>\n",
       "      <td>0.084577</td>\n",
       "    </tr>\n",
       "    <tr>\n",
       "      <th>35</th>\n",
       "      <td>República Dominicana</td>\n",
       "      <td>0.084337</td>\n",
       "    </tr>\n",
       "    <tr>\n",
       "      <th>4</th>\n",
       "      <td>Brasil</td>\n",
       "      <td>0.083333</td>\n",
       "    </tr>\n",
       "    <tr>\n",
       "      <th>15</th>\n",
       "      <td>España</td>\n",
       "      <td>0.078788</td>\n",
       "    </tr>\n",
       "    <tr>\n",
       "      <th>14</th>\n",
       "      <td>El Salvador</td>\n",
       "      <td>0.073171</td>\n",
       "    </tr>\n",
       "    <tr>\n",
       "      <th>3</th>\n",
       "      <td>Bolivia</td>\n",
       "      <td>0.060000</td>\n",
       "    </tr>\n",
       "    <tr>\n",
       "      <th>22</th>\n",
       "      <td>Honduras</td>\n",
       "      <td>0.056818</td>\n",
       "    </tr>\n",
       "    <tr>\n",
       "      <th>12</th>\n",
       "      <td>Cuba</td>\n",
       "      <td>0.045455</td>\n",
       "    </tr>\n",
       "    <tr>\n",
       "      <th>9</th>\n",
       "      <td>Colombia</td>\n",
       "      <td>0.044118</td>\n",
       "    </tr>\n",
       "    <tr>\n",
       "      <th>27</th>\n",
       "      <td>Marruecos</td>\n",
       "      <td>0.036364</td>\n",
       "    </tr>\n",
       "  </tbody>\n",
       "</table>\n",
       "</div>"
      ],
      "text/plain": [
       "             Nationality   Working\n",
       "36    República de Corea  0.400000\n",
       "17                Gambia  0.333333\n",
       "39                Sahara  0.250000\n",
       "19                Guinea  0.166667\n",
       "45             Venezuela  0.147541\n",
       "8                  China  0.142857\n",
       "26                  Malí  0.125000\n",
       "44               Ucrania  0.111111\n",
       "28             Nicaragua  0.103448\n",
       "29               Nigeria  0.100000\n",
       "13               Ecuador  0.084577\n",
       "35  República Dominicana  0.084337\n",
       "4                 Brasil  0.083333\n",
       "15                España  0.078788\n",
       "14           El Salvador  0.073171\n",
       "3                Bolivia  0.060000\n",
       "22              Honduras  0.056818\n",
       "12                  Cuba  0.045455\n",
       "9               Colombia  0.044118\n",
       "27             Marruecos  0.036364"
      ]
     },
     "metadata": {},
     "output_type": "display_data"
    }
   ],
   "source": [
    "data2=data0[['Nationality','Working']]\n",
    "data3=data2.groupby('Nationality',as_index=False).mean().sort_values('Working',ascending=False)\n",
    "display(data3[0:20])"
   ]
  },
  {
   "cell_type": "code",
   "execution_count": 26,
   "id": "7b4eaeb9",
   "metadata": {
    "execution": {
     "iopub.execute_input": "2022-05-26T16:54:32.261523Z",
     "iopub.status.busy": "2022-05-26T16:54:32.261125Z",
     "iopub.status.idle": "2022-05-26T16:54:33.573818Z",
     "shell.execute_reply": "2022-05-26T16:54:33.572628Z"
    },
    "papermill": {
     "duration": 1.329987,
     "end_time": "2022-05-26T16:54:33.576277",
     "exception": false,
     "start_time": "2022-05-26T16:54:32.246290",
     "status": "completed"
    },
    "tags": []
   },
   "outputs": [
    {
     "data": {
      "text/html": [
       "        <script type=\"text/javascript\">\n",
       "        window.PlotlyConfig = {MathJaxConfig: 'local'};\n",
       "        if (window.MathJax && window.MathJax.Hub && window.MathJax.Hub.Config) {window.MathJax.Hub.Config({SVG: {font: \"STIX-Web\"}});}\n",
       "        if (typeof require !== 'undefined') {\n",
       "        require.undef(\"plotly\");\n",
       "        requirejs.config({\n",
       "            paths: {\n",
       "                'plotly': ['https://cdn.plot.ly/plotly-2.12.1.min']\n",
       "            }\n",
       "        });\n",
       "        require(['plotly'], function(Plotly) {\n",
       "            window._Plotly = Plotly;\n",
       "        });\n",
       "        }\n",
       "        </script>\n",
       "        "
      ]
     },
     "metadata": {},
     "output_type": "display_data"
    },
    {
     "data": {
      "text/html": [
       "<div>                            <div id=\"d51fd9f9-1da3-42d9-b28f-fb370fdf94a8\" class=\"plotly-graph-div\" style=\"height:525px; width:100%;\"></div>            <script type=\"text/javascript\">                require([\"plotly\"], function(Plotly) {                    window.PLOTLYENV=window.PLOTLYENV || {};                                    if (document.getElementById(\"d51fd9f9-1da3-42d9-b28f-fb370fdf94a8\")) {                    Plotly.newPlot(                        \"d51fd9f9-1da3-42d9-b28f-fb370fdf94a8\",                        [{\"alignmentgroup\":\"True\",\"hovertemplate\":\"Nationality=%{x}<br>Working=%{y}<extra></extra>\",\"legendgroup\":\"\",\"marker\":{\"color\":\"#636efa\",\"pattern\":{\"shape\":\"\"}},\"name\":\"\",\"offsetgroup\":\"\",\"orientation\":\"v\",\"showlegend\":false,\"textposition\":\"auto\",\"x\":[\"República de Corea\",\"Gambia\",\"Sahara\",\"Guinea\",\"Venezuela\",\"China\",\"Malí\",\"Ucrania\",\"Nicaragua\",\"Nigeria\",\"Ecuador\",\"República Dominicana\",\"Brasil\",\"España\",\"El Salvador\",\"Bolivia\",\"Honduras\",\"Cuba\",\"Colombia\",\"Marruecos\"],\"xaxis\":\"x\",\"y\":[0.4,0.3333333333333333,0.25,0.16666666666666666,0.14754098360655737,0.14285714285714285,0.125,0.1111111111111111,0.10344827586206896,0.1,0.0845771144278607,0.08433734939759036,0.08333333333333333,0.07878787878787878,0.07317073170731707,0.06,0.056818181818181816,0.045454545454545456,0.04411764705882353,0.03636363636363636],\"yaxis\":\"y\",\"type\":\"bar\"}],                        {\"template\":{\"data\":{\"histogram2dcontour\":[{\"type\":\"histogram2dcontour\",\"colorbar\":{\"outlinewidth\":0,\"ticks\":\"\"},\"colorscale\":[[0.0,\"#0d0887\"],[0.1111111111111111,\"#46039f\"],[0.2222222222222222,\"#7201a8\"],[0.3333333333333333,\"#9c179e\"],[0.4444444444444444,\"#bd3786\"],[0.5555555555555556,\"#d8576b\"],[0.6666666666666666,\"#ed7953\"],[0.7777777777777778,\"#fb9f3a\"],[0.8888888888888888,\"#fdca26\"],[1.0,\"#f0f921\"]]}],\"choropleth\":[{\"type\":\"choropleth\",\"colorbar\":{\"outlinewidth\":0,\"ticks\":\"\"}}],\"histogram2d\":[{\"type\":\"histogram2d\",\"colorbar\":{\"outlinewidth\":0,\"ticks\":\"\"},\"colorscale\":[[0.0,\"#0d0887\"],[0.1111111111111111,\"#46039f\"],[0.2222222222222222,\"#7201a8\"],[0.3333333333333333,\"#9c179e\"],[0.4444444444444444,\"#bd3786\"],[0.5555555555555556,\"#d8576b\"],[0.6666666666666666,\"#ed7953\"],[0.7777777777777778,\"#fb9f3a\"],[0.8888888888888888,\"#fdca26\"],[1.0,\"#f0f921\"]]}],\"heatmap\":[{\"type\":\"heatmap\",\"colorbar\":{\"outlinewidth\":0,\"ticks\":\"\"},\"colorscale\":[[0.0,\"#0d0887\"],[0.1111111111111111,\"#46039f\"],[0.2222222222222222,\"#7201a8\"],[0.3333333333333333,\"#9c179e\"],[0.4444444444444444,\"#bd3786\"],[0.5555555555555556,\"#d8576b\"],[0.6666666666666666,\"#ed7953\"],[0.7777777777777778,\"#fb9f3a\"],[0.8888888888888888,\"#fdca26\"],[1.0,\"#f0f921\"]]}],\"heatmapgl\":[{\"type\":\"heatmapgl\",\"colorbar\":{\"outlinewidth\":0,\"ticks\":\"\"},\"colorscale\":[[0.0,\"#0d0887\"],[0.1111111111111111,\"#46039f\"],[0.2222222222222222,\"#7201a8\"],[0.3333333333333333,\"#9c179e\"],[0.4444444444444444,\"#bd3786\"],[0.5555555555555556,\"#d8576b\"],[0.6666666666666666,\"#ed7953\"],[0.7777777777777778,\"#fb9f3a\"],[0.8888888888888888,\"#fdca26\"],[1.0,\"#f0f921\"]]}],\"contourcarpet\":[{\"type\":\"contourcarpet\",\"colorbar\":{\"outlinewidth\":0,\"ticks\":\"\"}}],\"contour\":[{\"type\":\"contour\",\"colorbar\":{\"outlinewidth\":0,\"ticks\":\"\"},\"colorscale\":[[0.0,\"#0d0887\"],[0.1111111111111111,\"#46039f\"],[0.2222222222222222,\"#7201a8\"],[0.3333333333333333,\"#9c179e\"],[0.4444444444444444,\"#bd3786\"],[0.5555555555555556,\"#d8576b\"],[0.6666666666666666,\"#ed7953\"],[0.7777777777777778,\"#fb9f3a\"],[0.8888888888888888,\"#fdca26\"],[1.0,\"#f0f921\"]]}],\"surface\":[{\"type\":\"surface\",\"colorbar\":{\"outlinewidth\":0,\"ticks\":\"\"},\"colorscale\":[[0.0,\"#0d0887\"],[0.1111111111111111,\"#46039f\"],[0.2222222222222222,\"#7201a8\"],[0.3333333333333333,\"#9c179e\"],[0.4444444444444444,\"#bd3786\"],[0.5555555555555556,\"#d8576b\"],[0.6666666666666666,\"#ed7953\"],[0.7777777777777778,\"#fb9f3a\"],[0.8888888888888888,\"#fdca26\"],[1.0,\"#f0f921\"]]}],\"mesh3d\":[{\"type\":\"mesh3d\",\"colorbar\":{\"outlinewidth\":0,\"ticks\":\"\"}}],\"scatter\":[{\"fillpattern\":{\"fillmode\":\"overlay\",\"size\":10,\"solidity\":0.2},\"type\":\"scatter\"}],\"parcoords\":[{\"type\":\"parcoords\",\"line\":{\"colorbar\":{\"outlinewidth\":0,\"ticks\":\"\"}}}],\"scatterpolargl\":[{\"type\":\"scatterpolargl\",\"marker\":{\"colorbar\":{\"outlinewidth\":0,\"ticks\":\"\"}}}],\"bar\":[{\"error_x\":{\"color\":\"#2a3f5f\"},\"error_y\":{\"color\":\"#2a3f5f\"},\"marker\":{\"line\":{\"color\":\"#E5ECF6\",\"width\":0.5},\"pattern\":{\"fillmode\":\"overlay\",\"size\":10,\"solidity\":0.2}},\"type\":\"bar\"}],\"scattergeo\":[{\"type\":\"scattergeo\",\"marker\":{\"colorbar\":{\"outlinewidth\":0,\"ticks\":\"\"}}}],\"scatterpolar\":[{\"type\":\"scatterpolar\",\"marker\":{\"colorbar\":{\"outlinewidth\":0,\"ticks\":\"\"}}}],\"histogram\":[{\"marker\":{\"pattern\":{\"fillmode\":\"overlay\",\"size\":10,\"solidity\":0.2}},\"type\":\"histogram\"}],\"scattergl\":[{\"type\":\"scattergl\",\"marker\":{\"colorbar\":{\"outlinewidth\":0,\"ticks\":\"\"}}}],\"scatter3d\":[{\"type\":\"scatter3d\",\"line\":{\"colorbar\":{\"outlinewidth\":0,\"ticks\":\"\"}},\"marker\":{\"colorbar\":{\"outlinewidth\":0,\"ticks\":\"\"}}}],\"scattermapbox\":[{\"type\":\"scattermapbox\",\"marker\":{\"colorbar\":{\"outlinewidth\":0,\"ticks\":\"\"}}}],\"scatterternary\":[{\"type\":\"scatterternary\",\"marker\":{\"colorbar\":{\"outlinewidth\":0,\"ticks\":\"\"}}}],\"scattercarpet\":[{\"type\":\"scattercarpet\",\"marker\":{\"colorbar\":{\"outlinewidth\":0,\"ticks\":\"\"}}}],\"carpet\":[{\"aaxis\":{\"endlinecolor\":\"#2a3f5f\",\"gridcolor\":\"white\",\"linecolor\":\"white\",\"minorgridcolor\":\"white\",\"startlinecolor\":\"#2a3f5f\"},\"baxis\":{\"endlinecolor\":\"#2a3f5f\",\"gridcolor\":\"white\",\"linecolor\":\"white\",\"minorgridcolor\":\"white\",\"startlinecolor\":\"#2a3f5f\"},\"type\":\"carpet\"}],\"table\":[{\"cells\":{\"fill\":{\"color\":\"#EBF0F8\"},\"line\":{\"color\":\"white\"}},\"header\":{\"fill\":{\"color\":\"#C8D4E3\"},\"line\":{\"color\":\"white\"}},\"type\":\"table\"}],\"barpolar\":[{\"marker\":{\"line\":{\"color\":\"#E5ECF6\",\"width\":0.5},\"pattern\":{\"fillmode\":\"overlay\",\"size\":10,\"solidity\":0.2}},\"type\":\"barpolar\"}],\"pie\":[{\"automargin\":true,\"type\":\"pie\"}]},\"layout\":{\"autotypenumbers\":\"strict\",\"colorway\":[\"#636efa\",\"#EF553B\",\"#00cc96\",\"#ab63fa\",\"#FFA15A\",\"#19d3f3\",\"#FF6692\",\"#B6E880\",\"#FF97FF\",\"#FECB52\"],\"font\":{\"color\":\"#2a3f5f\"},\"hovermode\":\"closest\",\"hoverlabel\":{\"align\":\"left\"},\"paper_bgcolor\":\"white\",\"plot_bgcolor\":\"#E5ECF6\",\"polar\":{\"bgcolor\":\"#E5ECF6\",\"angularaxis\":{\"gridcolor\":\"white\",\"linecolor\":\"white\",\"ticks\":\"\"},\"radialaxis\":{\"gridcolor\":\"white\",\"linecolor\":\"white\",\"ticks\":\"\"}},\"ternary\":{\"bgcolor\":\"#E5ECF6\",\"aaxis\":{\"gridcolor\":\"white\",\"linecolor\":\"white\",\"ticks\":\"\"},\"baxis\":{\"gridcolor\":\"white\",\"linecolor\":\"white\",\"ticks\":\"\"},\"caxis\":{\"gridcolor\":\"white\",\"linecolor\":\"white\",\"ticks\":\"\"}},\"coloraxis\":{\"colorbar\":{\"outlinewidth\":0,\"ticks\":\"\"}},\"colorscale\":{\"sequential\":[[0.0,\"#0d0887\"],[0.1111111111111111,\"#46039f\"],[0.2222222222222222,\"#7201a8\"],[0.3333333333333333,\"#9c179e\"],[0.4444444444444444,\"#bd3786\"],[0.5555555555555556,\"#d8576b\"],[0.6666666666666666,\"#ed7953\"],[0.7777777777777778,\"#fb9f3a\"],[0.8888888888888888,\"#fdca26\"],[1.0,\"#f0f921\"]],\"sequentialminus\":[[0.0,\"#0d0887\"],[0.1111111111111111,\"#46039f\"],[0.2222222222222222,\"#7201a8\"],[0.3333333333333333,\"#9c179e\"],[0.4444444444444444,\"#bd3786\"],[0.5555555555555556,\"#d8576b\"],[0.6666666666666666,\"#ed7953\"],[0.7777777777777778,\"#fb9f3a\"],[0.8888888888888888,\"#fdca26\"],[1.0,\"#f0f921\"]],\"diverging\":[[0,\"#8e0152\"],[0.1,\"#c51b7d\"],[0.2,\"#de77ae\"],[0.3,\"#f1b6da\"],[0.4,\"#fde0ef\"],[0.5,\"#f7f7f7\"],[0.6,\"#e6f5d0\"],[0.7,\"#b8e186\"],[0.8,\"#7fbc41\"],[0.9,\"#4d9221\"],[1,\"#276419\"]]},\"xaxis\":{\"gridcolor\":\"white\",\"linecolor\":\"white\",\"ticks\":\"\",\"title\":{\"standoff\":15},\"zerolinecolor\":\"white\",\"automargin\":true,\"zerolinewidth\":2},\"yaxis\":{\"gridcolor\":\"white\",\"linecolor\":\"white\",\"ticks\":\"\",\"title\":{\"standoff\":15},\"zerolinecolor\":\"white\",\"automargin\":true,\"zerolinewidth\":2},\"scene\":{\"xaxis\":{\"backgroundcolor\":\"#E5ECF6\",\"gridcolor\":\"white\",\"linecolor\":\"white\",\"showbackground\":true,\"ticks\":\"\",\"zerolinecolor\":\"white\",\"gridwidth\":2},\"yaxis\":{\"backgroundcolor\":\"#E5ECF6\",\"gridcolor\":\"white\",\"linecolor\":\"white\",\"showbackground\":true,\"ticks\":\"\",\"zerolinecolor\":\"white\",\"gridwidth\":2},\"zaxis\":{\"backgroundcolor\":\"#E5ECF6\",\"gridcolor\":\"white\",\"linecolor\":\"white\",\"showbackground\":true,\"ticks\":\"\",\"zerolinecolor\":\"white\",\"gridwidth\":2}},\"shapedefaults\":{\"line\":{\"color\":\"#2a3f5f\"}},\"annotationdefaults\":{\"arrowcolor\":\"#2a3f5f\",\"arrowhead\":0,\"arrowwidth\":1},\"geo\":{\"bgcolor\":\"white\",\"landcolor\":\"#E5ECF6\",\"subunitcolor\":\"white\",\"showland\":true,\"showlakes\":true,\"lakecolor\":\"white\"},\"title\":{\"x\":0.05},\"mapbox\":{\"style\":\"light\"}}},\"xaxis\":{\"anchor\":\"y\",\"domain\":[0.0,1.0],\"title\":{\"text\":\"Nationality\"}},\"yaxis\":{\"anchor\":\"x\",\"domain\":[0.0,1.0],\"title\":{\"text\":\"Working\"}},\"legend\":{\"tracegroupgap\":0},\"title\":{\"text\":\"Working Situation Ranking by Nationality\"},\"barmode\":\"relative\"},                        {\"responsive\": true}                    ).then(function(){\n",
       "                            \n",
       "var gd = document.getElementById('d51fd9f9-1da3-42d9-b28f-fb370fdf94a8');\n",
       "var x = new MutationObserver(function (mutations, observer) {{\n",
       "        var display = window.getComputedStyle(gd).display;\n",
       "        if (!display || display === 'none') {{\n",
       "            console.log([gd, 'removed!']);\n",
       "            Plotly.purge(gd);\n",
       "            observer.disconnect();\n",
       "        }}\n",
       "}});\n",
       "\n",
       "// Listen for the removal of the full notebook cells\n",
       "var notebookContainer = gd.closest('#notebook-container');\n",
       "if (notebookContainer) {{\n",
       "    x.observe(notebookContainer, {childList: true});\n",
       "}}\n",
       "\n",
       "// Listen for the clearing of the current output cell\n",
       "var outputEl = gd.closest('.output');\n",
       "if (outputEl) {{\n",
       "    x.observe(outputEl, {childList: true});\n",
       "}}\n",
       "\n",
       "                        })                };                });            </script>        </div>"
      ]
     },
     "metadata": {},
     "output_type": "display_data"
    }
   ],
   "source": [
    "fig = px.bar(data3[:20], x='Nationality', y='Working',title=\"Working Situation Ranking by Nationality\")\n",
    "fig.show()"
   ]
  },
  {
   "cell_type": "code",
   "execution_count": null,
   "id": "ee60ae36",
   "metadata": {
    "papermill": {
     "duration": 0.013415,
     "end_time": "2022-05-26T16:54:33.604545",
     "exception": false,
     "start_time": "2022-05-26T16:54:33.591130",
     "status": "completed"
    },
    "tags": []
   },
   "outputs": [],
   "source": []
  }
 ],
 "metadata": {
  "kernelspec": {
   "display_name": "Python 3",
   "language": "python",
   "name": "python3"
  },
  "language_info": {
   "codemirror_mode": {
    "name": "ipython",
    "version": 3
   },
   "file_extension": ".py",
   "mimetype": "text/x-python",
   "name": "python",
   "nbconvert_exporter": "python",
   "pygments_lexer": "ipython3",
   "version": "3.7.12"
  },
  "papermill": {
   "default_parameters": {},
   "duration": 27.72779,
   "end_time": "2022-05-26T16:54:36.354621",
   "environment_variables": {},
   "exception": null,
   "input_path": "__notebook__.ipynb",
   "output_path": "__notebook__.ipynb",
   "parameters": {},
   "start_time": "2022-05-26T16:54:08.626831",
   "version": "2.3.4"
  }
 },
 "nbformat": 4,
 "nbformat_minor": 5
}
